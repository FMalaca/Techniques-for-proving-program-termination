{
 "cells": [
  {
   "cell_type": "markdown",
   "id": "a4054454",
   "metadata": {},
   "source": [
    "# Proving Programs Terminate using ..."
   ]
  },
  {
   "cell_type": "markdown",
   "id": "6c1cccff",
   "metadata": {},
   "source": [
    "# A Proof Using the Order (N, ≤)"
   ]
  },
  {
   "cell_type": "markdown",
   "id": "f3e47706",
   "metadata": {},
   "source": [
    "### Não está a funcionar - nem a ser usado"
   ]
  },
  {
   "cell_type": "code",
   "execution_count": null,
   "id": "e52de7a9",
   "metadata": {},
   "outputs": [],
   "source": [
    " def place_parenthesis(s):\n",
    "    #converte expressões matemáticas em expressões passíveis\n",
    "    #de interpretação em https://microsoft.github.io/z3guide/playground/Freeform%20Editing/\n",
    "    #por exemplo, x1+x2*3 --> (+ x1 (* x2 3))\n",
    "    \n",
    "    # ^ (*/) (+-)\n",
    "            \n",
    "    def conversion_by_symbol(symbol_to_found, string):\n",
    "        i = 0\n",
    "        while i<len(string):\n",
    "            print(string)\n",
    "            if string[i] == symbol_to_found:\n",
    "                #add (\n",
    "                parentheses_counter = 0\n",
    "                c = string[i-1]\n",
    "                j = i-1\n",
    "                ok = True\n",
    "                while c not in ['^','*','/','+','-'] and j>0 and (parentheses_counter!=0 or ok):\n",
    "                    j -= 1\n",
    "                    c = string[j] if j>0 else symbol_to_found\n",
    "                    if c=='(':\n",
    "                        ok = False\n",
    "                        parentheses_counter -= 1\n",
    "                    elif c==')':\n",
    "                        ok = False\n",
    "                        parentheses_counter += 1\n",
    "                            \n",
    "                string = string[:j] + '(' + string[j:]\n",
    "                \n",
    "                i += 1 #porque se adicionou ( à esquerda \n",
    "                \n",
    "                #add )\n",
    "                parentheses_counter = 0\n",
    "                c = string[i+1]\n",
    "                j = i+1\n",
    "                ok = True\n",
    "                while c not in ['^','*','/','+','-'] and j<len(string) and (parentheses_counter!=0 or ok):\n",
    "                    j += 1\n",
    "                    c = string[j] if j<len(string) else symbol_to_found\n",
    "                    if c=='(':\n",
    "                        ok = False\n",
    "                        parentheses_counter -= 1\n",
    "                    elif c==')':\n",
    "                        ok = False\n",
    "                        parentheses_counter += 1\n",
    "                            \n",
    "                string = string[:j] + ')' + string[j:]\n",
    "                \n",
    "            i += 1\n",
    "            \n",
    "        return string\n",
    "        \n",
    "    for symbol in ['^', '*', '/', '+', '-']:\n",
    "        s = conversion_by_symbol(symbol, s)\n",
    "    \n",
    "    return s"
   ]
  },
  {
   "cell_type": "code",
   "execution_count": 2,
   "id": "de6cb819",
   "metadata": {},
   "outputs": [],
   "source": [
    "def conversion_by_symbol(symbol_to_found, string, symbol_to_add):\n",
    "        # 0 to add (  and 1 to add )\n",
    "        res = string\n",
    "        if symbol_to_add == 0:\n",
    "            parentheses_left_index = []\n",
    "            for i in range(len(string)):\n",
    "                if string[i]==symbol:\n",
    "                    c = string[i-1]\n",
    "                    j = i-1\n",
    "                    while c not in ['^','*','/','+','-'] and j>=0:\n",
    "                        j -= 1\n",
    "                        c = string[j] if j>0 else symbol\n",
    "                        \n",
    "                    parentheses_left_index += [j+1]\n",
    "            \n",
    "            if len(parentheses_left_index)>0:\n",
    "                res = string[:parentheses_left_index[0]] + '('\n",
    "                for i in range(len(parentheses_left_index)-1):\n",
    "                    res += string[parentheses_left_index[i]:parentheses_left_index[i+1]] + '('\n",
    "                res += string[parentheses_left_index[-1]:]\n",
    "        else:\n",
    "            parentheses_right_index = []\n",
    "            for i in range(len(string)):\n",
    "                if string[i]==symbol:\n",
    "                    c = string[i+1]\n",
    "                    j = i+1\n",
    "                    while c not in ['^','*','/','+','-'] and j<len(string):\n",
    "                        j += 1\n",
    "                        c = string[j] if j<len(string) else symbol\n",
    "                    parentheses_right_index += [j]\n",
    "                    \n",
    "            if len(parentheses_right_index)>0:\n",
    "                res = string[:parentheses_right_index[0]] + ')'\n",
    "                for i in range(len(parentheses_right_index)-1):\n",
    "                    res += string[parentheses_right_index[i]:parentheses_right_index[i+1]] + ')'\n",
    "                res += string[parentheses_right_index[-1]:]\n",
    "            \n",
    "        return res"
   ]
  },
  {
   "cell_type": "code",
   "execution_count": 3,
   "id": "8bc3c056",
   "metadata": {},
   "outputs": [],
   "source": [
    "def conversion_by_symbol(symbol_to_found, string):\n",
    "        i = 0\n",
    "        while i<len(string):\n",
    "            if string[i] == symbol_to_found:\n",
    "                \n",
    "                #add (\n",
    "                parentheses_counter = 0\n",
    "                j = i-1\n",
    "                c = string[j]\n",
    "                ok = False #ok sse já apareceu \"(\" ou \")\"\n",
    "                if c=='(':\n",
    "                    ok = True\n",
    "                    parentheses_counter -= 1\n",
    "                elif c==')':\n",
    "                    ok = True\n",
    "                    parentheses_counter += 1\n",
    "                while j>=0 and (not ok or parentheses_counter==0) and (c not in ['^','*','/','+','-'] or parentheses_counter==0):\n",
    "                    j -= 1\n",
    "                    c = string[j] if j>=0 else symbol_to_found\n",
    "                    if c=='(':\n",
    "                        ok = True\n",
    "                        parentheses_counter -= 1\n",
    "                    elif c==')':\n",
    "                        ok = True\n",
    "                        parentheses_counter += 1\n",
    "                            \n",
    "                string = string[:j+1] + '(' + string[j+1:]\n",
    "                \n",
    "                i += 1 #porque se adicionou ( à esquerda \n",
    "                \n",
    "                #add )\n",
    "                parentheses_counter = 0\n",
    "                j = i+1\n",
    "                c = string[j]\n",
    "                ok = False #ok sse já apareceu \"(\" ou \")\"\n",
    "                if c=='(':\n",
    "                    ok = True\n",
    "                    parentheses_counter -= 1\n",
    "                elif c==')':\n",
    "                    ok = True\n",
    "                    parentheses_counter += 1\n",
    "                while j>=0 and (not ok or parentheses_counter==0) and (c not in ['^','*','/','+','-'] or parentheses_counter==0):\n",
    "                    j += 1\n",
    "                    c = string[j] if j<len(string) else symbol_to_found\n",
    "                    if c=='(':\n",
    "                        ok = True\n",
    "                        parentheses_counter -= 1\n",
    "                    elif c==')':\n",
    "                        ok = True\n",
    "                        parentheses_counter += 1\n",
    "                            \n",
    "                string = string[:j] + ')' + string[j:]\n",
    "                \n",
    "            i += 1\n",
    "            \n",
    "        return string"
   ]
  },
  {
   "cell_type": "markdown",
   "id": "9b274325",
   "metadata": {},
   "source": [
    "---------------------------------------------------"
   ]
  },
  {
   "cell_type": "markdown",
   "id": "86e672bc",
   "metadata": {},
   "source": [
    "### Pedro Antunes"
   ]
  },
  {
   "cell_type": "code",
   "execution_count": 4,
   "id": "92a12ff3",
   "metadata": {},
   "outputs": [],
   "source": [
    "def megaf(string):\n",
    "    string = conversion_by_symbol({'+','-'}, string)\n",
    "    string = conversion_by_symbol({'*','/'}, string)\n",
    "    string = conversion_by_symbol({'^'}, string)\n",
    "    return string\n",
    "\n",
    "def conversion_by_symbol(symbol_list, string):\n",
    "    found = False\n",
    "    brackets_open = -1\n",
    "    brackets_close = len(string)\n",
    "    i = 0\n",
    "    \n",
    "    while i<len(string) and not found:\n",
    "        if string[i] in symbol_list:\n",
    "            found = True\n",
    "            for j in range(0,i,1):\n",
    "                if string[j] == '(':\n",
    "                    brackets_open = j\n",
    "            for j in range(len(string)-1,i,-1):\n",
    "                if string[j] == ')':\n",
    "                    brackets_close = j\n",
    "            string = string[:brackets_open+1] + '(' + conversion_by_symbol(symbol_list, string[brackets_open+1:i]) + ')' + string[i] + '(' + conversion_by_symbol(symbol_list, string[i+1:brackets_close]) + ')' + conversion_by_symbol(symbol_list, string[brackets_close:]) \n",
    "            \n",
    "        i = i+1\n",
    "        \n",
    "    return string"
   ]
  },
  {
   "cell_type": "code",
   "execution_count": 5,
   "id": "7ee2b372",
   "metadata": {
    "scrolled": false
   },
   "outputs": [
    {
     "data": {
      "text/plain": [
       "'((1)+((2)))*(((3))+(4))'"
      ]
     },
     "execution_count": 5,
     "metadata": {},
     "output_type": "execute_result"
    }
   ],
   "source": [
    "megaf('(1+2)*(3+4)')"
   ]
  },
  {
   "cell_type": "code",
   "execution_count": 6,
   "id": "9e32ab32",
   "metadata": {
    "scrolled": true
   },
   "outputs": [
    {
     "data": {
      "text/plain": [
       "'(1)+(((2)*(5)))'"
      ]
     },
     "execution_count": 6,
     "metadata": {},
     "output_type": "execute_result"
    }
   ],
   "source": [
    "megaf('1+(2*5)')"
   ]
  },
  {
   "cell_type": "code",
   "execution_count": 7,
   "id": "e6d13022",
   "metadata": {},
   "outputs": [],
   "source": [
    "def clump_left(string, index):\n",
    "    if string[index] in [')','}']:\n",
    "        level = 1\n",
    "        i = index - 1\n",
    "        while level != 0:\n",
    "            if string[i] in [')','}']:\n",
    "                level = level + 1\n",
    "            elif string[i] in ['(','{']:\n",
    "                level = level - 1\n",
    "            i = i - 1\n",
    "        return i + 1\n",
    "    else:\n",
    "        i = index\n",
    "        while i > 0 and (string[i-1].isnumeric() or string[i-1]=='x'):\n",
    "            i = i - 1\n",
    "        return i\n",
    "    \n",
    "def clump_right(string, index):\n",
    "    if string[index] in ['(','{']:\n",
    "        level = 1\n",
    "        i = index + 1\n",
    "        while level != 0:\n",
    "            if string[i] in ['(','{']:\n",
    "                level = level + 1\n",
    "            elif string[i] in [')','}']:\n",
    "                level = level - 1\n",
    "            i = i + 1\n",
    "        return i - 1\n",
    "    else:\n",
    "        i = index\n",
    "        while i < len(string)-1 and (string[i+1].isnumeric() or string[i+1]=='x'):\n",
    "            i = i + 1\n",
    "        return i\n",
    "    \n",
    "def insert(string, expression, index):\n",
    "    return string[:index] + expression + string[index:]\n",
    "\n",
    "def operator_process(string, operator_list):\n",
    "    i = 0\n",
    "    while i < len(string):\n",
    "        if string[i] in operator_list:\n",
    "            l = clump_left(string, i-1)\n",
    "            r = clump_right(string, i+1)\n",
    "            string = insert(string, '(', l)\n",
    "            string = insert(string, ')', r+2)\n",
    "            i = i + 2\n",
    "        i = i + 1\n",
    "    return string\n",
    "\n",
    "def place_parenthesis(string):\n",
    "    operator_priority = [['^'],['*','/'],['+','-']]\n",
    "    string = string.replace('(', '{')\n",
    "    string = string.replace(')', '}')\n",
    "    for operators in operator_priority:\n",
    "        string = operator_process(string, operators)\n",
    "    string = string.replace('{', '')\n",
    "    string = string.replace('}', '')\n",
    "    return string\n",
    "\n",
    "#Ex: place_parenthesis('(1+3)^2*6-5/(2)', [['^'],['*','/'],['+','-']])"
   ]
  },
  {
   "cell_type": "markdown",
   "id": "41b7e309",
   "metadata": {},
   "source": [
    "### Using z3 online"
   ]
  },
  {
   "cell_type": "code",
   "execution_count": 1,
   "id": "ae61083b",
   "metadata": {},
   "outputs": [],
   "source": [
    "def clump_left(string, index):\n",
    "    if string[index] in [')','}']:\n",
    "        level = 1\n",
    "        i = index - 1\n",
    "        while level != 0:\n",
    "            if string[i] in [')','}']:\n",
    "                level = level + 1\n",
    "            elif string[i] in ['(','{']:\n",
    "                level = level - 1\n",
    "            i = i - 1\n",
    "        return i + 1\n",
    "    else:\n",
    "        i = index\n",
    "        while i > 0 and (string[i-1].isnumeric() or string[i-1]=='x'):\n",
    "            i = i - 1\n",
    "        return i\n",
    "    \n",
    "def clump_right(string, index):\n",
    "    if string[index] in ['(','{']:\n",
    "        level = 1\n",
    "        i = index + 1\n",
    "        while level != 0:\n",
    "            if string[i] in ['(','{']:\n",
    "                level = level + 1\n",
    "            elif string[i] in [')','}']:\n",
    "                level = level - 1\n",
    "            i = i + 1\n",
    "        return i - 1\n",
    "    else:\n",
    "        i = index\n",
    "        while i < len(string)-1 and (string[i+1].isnumeric() or string[i+1]=='x'):\n",
    "            i = i + 1\n",
    "        return i\n",
    "    \n",
    "def insert(string, expression, index):\n",
    "    return string[:index] + expression + string[index:]\n",
    "\n",
    "def operator_process(string, operator_list):\n",
    "    i = 0\n",
    "    while i < len(string):\n",
    "        if string[i] in operator_list:\n",
    "            l = clump_left(string, i-1)\n",
    "            r = clump_right(string, i+1)\n",
    "            string = insert(string, '(', l)\n",
    "            string = insert(string, ')', r+2)\n",
    "            i = i + 2\n",
    "        i = i + 1\n",
    "    return string\n",
    "\n",
    "def place_parenthesis(string):\n",
    "    #given an expression in the usual way the program returns\n",
    "    #the expression with parenthesis\n",
    "    \n",
    "    operator_priority = [['^'],['*','/'],['+','-']]\n",
    "    string = string.replace('(', '{')\n",
    "    string = string.replace(')', '}')\n",
    "    for operators in operator_priority:\n",
    "        string = operator_process(string, operators)\n",
    "    string = string.replace('{', '')\n",
    "    string = string.replace('}', '')\n",
    "    return string\n",
    "\n",
    "#Ex: place_parenthesis('(1+3)^2*6-5/(2)', [['^'],['*','/'],['+','-']])"
   ]
  },
  {
   "cell_type": "markdown",
   "id": "658c734a",
   "metadata": {},
   "source": [
    "-----------------------------------------------------------"
   ]
  },
  {
   "cell_type": "code",
   "execution_count": 2,
   "id": "e86fcdbc",
   "metadata": {},
   "outputs": [],
   "source": [
    "def converter(string:str):\n",
    "    #From an expression with parenthesis (like the output of place_parenthesis) \n",
    "    #it returns expressions of the form needed to Z3\n",
    "    \n",
    "    operation_list = ['^','*','/','+','-']\n",
    "    \n",
    "    def operations_counter(string):\n",
    "        counter = 0\n",
    "        for c in string:\n",
    "            if c in operation_list:\n",
    "                counter += 1\n",
    "        return counter\n",
    "    \n",
    "    def aux(string):\n",
    "        if operations_counter(string)==0: #f(x) onde f(x) não tem operações -> f(x)\n",
    "            return string\n",
    "        #(x1+x2) -> (+ x1 x2)\n",
    "        else: #(f(x) + g(x)) -> (+ aux(f(x)) aux(g(x)))\n",
    "            string = string[1:-1]\n",
    "            if '(' not in string:\n",
    "                i = 0\n",
    "                found = False\n",
    "                while i<len(string) and not found:\n",
    "                    if string[i] in operation_list:\n",
    "                        found = True\n",
    "                    else:\n",
    "                        i+=1\n",
    "                        \n",
    "            else:\n",
    "                level = 0\n",
    "                i = 0\n",
    "                if string[i]=='(':\n",
    "                    level -= 1\n",
    "                elif string[i]==')':\n",
    "                    level += 1\n",
    "                while i<len(string) and level!=0:\n",
    "                    i += 1\n",
    "                    if string[i]=='(':\n",
    "                        level -= 1\n",
    "                    elif string[i]==')':\n",
    "                        level += 1\n",
    "                i += 1                                      \n",
    "                \n",
    "            op = string[i]\n",
    "            s1 = string[:i]\n",
    "            s2 = string[i+1:]\n",
    "\n",
    "            return '(%s %s %s)'%(op, aux(s1), aux(s2))\n",
    "\n",
    "    return aux(string)"
   ]
  },
  {
   "cell_type": "code",
   "execution_count": 3,
   "id": "fac42dad",
   "metadata": {},
   "outputs": [],
   "source": [
    "def to_check(n,f,G):\n",
    "    #It returns the commands to run on https://microsoft.github.io/z3guide/playground/Freeform%20Editing/ \n",
    "    #to test if not(f(g(x))<f(x)) is unsat\n",
    "    \n",
    "    #G é da forma (..., ..., ... ...)\n",
    "    \n",
    "    print('\\nRun the following:\\n')\n",
    "    print('-----')\n",
    "    #declaração das constantes\n",
    "    print(';declare constant')\n",
    "    for i in range(n):\n",
    "        print('(declare-const x%d Int)'%(i+1))\n",
    "    \n",
    "    for i in range(n):\n",
    "        print('(assert (> x%d 0))'%(i+1))\n",
    "        \n",
    "    #retirar espaços a G\n",
    "    g = ''\n",
    "    for c in G:\n",
    "        if c!=' ':\n",
    "            g += c\n",
    "    g = g[1:-1] #retirar os parêntesis\n",
    "    \n",
    "    comma_index = [i for i in range(len(g)) if g[i]==',']\n",
    "    gs = [g[0:comma_index[0]]] #projeção 1 de g\n",
    "    gs += [g[comma_index[i]+1:comma_index[i+1]] for i in range(len(comma_index)-1)]\n",
    "    gs += [g[comma_index[-1]+1:]] #projeção m de g\n",
    "        \n",
    "    fog = f #substituir as ocorrências em f de x1 por g1(x), x2 por g2(x), etc.\n",
    "    for i in range(n):\n",
    "        fog = fog.replace('x%d'%(i+1), gs[i])\n",
    "    \n",
    "    print('(assert (not (< %s %s)))'%(converter(place_parenthesis(fog)), converter(place_parenthesis(f))))\n",
    "    print('(echo \"Answer:\") ')\n",
    "    print('(check-sat)')\n",
    "    print('-----')"
   ]
  },
  {
   "cell_type": "code",
   "execution_count": 4,
   "id": "4d3b0fd7",
   "metadata": {},
   "outputs": [],
   "source": [
    "def number_of_variables(exp:str):\n",
    "    #It returns the number of variables of the input expression \n",
    "    list_variable = []\n",
    "    i = 0\n",
    "    while i<len(exp):\n",
    "        if exp[i]=='x':\n",
    "            i += 1\n",
    "            variable = ''\n",
    "            while i<len(exp) and exp[i] in ['0','1','2','3','4','5','6','7','8','9']:\n",
    "                variable += exp[i]\n",
    "                i += 1\n",
    "            list_variable += [int(variable)]\n",
    "        else:\n",
    "            i+=1\n",
    "            \n",
    "    return max(list_variable)"
   ]
  },
  {
   "cell_type": "markdown",
   "id": "ed4f12e5",
   "metadata": {},
   "source": [
    "### main"
   ]
  },
  {
   "cell_type": "code",
   "execution_count": 5,
   "id": "8f8d3e98",
   "metadata": {
    "scrolled": false
   },
   "outputs": [
    {
     "name": "stdout",
     "output_type": "stream",
     "text": [
      "m = 3\n",
      "f(x) = x1+x2+x3\n",
      "g1? (x1+1,x2-1,x3-1)\n",
      "\n",
      "Run the following:\n",
      "\n",
      "-----\n",
      ";declare constant\n",
      "(declare-const x1 Int)\n",
      "(declare-const x2 Int)\n",
      "(declare-const x3 Int)\n",
      "(assert (> x1 0))\n",
      "(assert (> x2 0))\n",
      "(assert (> x3 0))\n",
      "(assert (not (< (- (+ (- (+ (+ x1 1) x2) 1) x3) 1) (+ (+ x1 x2) x3))))\n",
      "(echo \"Answer:\") \n",
      "(check-sat)\n",
      "-----\n",
      "Answer: unsat\n",
      "g2? (x1-1,x2+1,x3-1)\n",
      "\n",
      "Run the following:\n",
      "\n",
      "-----\n",
      ";declare constant\n",
      "(declare-const x1 Int)\n",
      "(declare-const x2 Int)\n",
      "(declare-const x3 Int)\n",
      "(assert (> x1 0))\n",
      "(assert (> x2 0))\n",
      "(assert (> x3 0))\n",
      "(assert (not (< (- (+ (+ (+ (- x1 1) x2) 1) x3) 1) (+ (+ x1 x2) x3))))\n",
      "(echo \"Answer:\") \n",
      "(check-sat)\n",
      "-----\n",
      "Answer: unsat\n",
      "g3? (x1-1, x2-1, x3+1)\n",
      "\n",
      "Run the following:\n",
      "\n",
      "-----\n",
      ";declare constant\n",
      "(declare-const x1 Int)\n",
      "(declare-const x2 Int)\n",
      "(declare-const x3 Int)\n",
      "(assert (> x1 0))\n",
      "(assert (> x2 0))\n",
      "(assert (> x3 0))\n",
      "(assert (not (< (+ (+ (- (+ (- x1 1) x2) 1) x3) 1) (+ (+ x1 x2) x3))))\n",
      "(echo \"Answer:\") \n",
      "(check-sat)\n",
      "-----\n",
      "Answer: unsat\n",
      "\n",
      "The program is finite.\n"
     ]
    }
   ],
   "source": [
    "def main():\n",
    "    #o output é 1 se o programa termina, 0 se não termina e 'unknown' caso não saiba.\n",
    "    m = int(input('m = '))\n",
    "    f = input('f(x) = ')\n",
    "    i = 1\n",
    "    ans = 'unsat'\n",
    "    n_f = number_of_variables(f)\n",
    "    while i<=m and ans=='unsat':\n",
    "        g = input('g%d? '%i)\n",
    "        n_g = number_of_variables(g)\n",
    "        to_check(max(n_f,n_g),f,g)\n",
    "        ans = input('Answer: ')\n",
    "        i += 1\n",
    "    \n",
    "    if ans == 'unsat':\n",
    "        print('\\nThe program is finite.')\n",
    "        return 1\n",
    "    \n",
    "    elif ans == 'sat':\n",
    "        print('\\nThe programa is not finite.')\n",
    "        return 0\n",
    "    \n",
    "    else: #ans == 'unknown'\n",
    "        print('\\nunknown')\n",
    "        return 'unknown'\n",
    "if __name__ == \"__main__\":\n",
    "    main()   "
   ]
  },
  {
   "cell_type": "markdown",
   "id": "e5653270",
   "metadata": {},
   "source": [
    "------------------------------"
   ]
  },
  {
   "cell_type": "markdown",
   "id": "b8580b6b",
   "metadata": {},
   "source": [
    "x1+x2+x3\n",
    "\n",
    "g1(x) = (x1+1,x2-1,x3-1)\n",
    "\n",
    "g2(x) = (x1-1,x2+1,x3-1)\n",
    "\n",
    "g3(x) = (x1-1, x2-1, x3+1)"
   ]
  },
  {
   "cell_type": "markdown",
   "id": "5464aef0",
   "metadata": {},
   "source": [
    "------------------------------"
   ]
  },
  {
   "cell_type": "markdown",
   "id": "a4a57613",
   "metadata": {},
   "source": [
    "### z3-solver"
   ]
  },
  {
   "cell_type": "code",
   "execution_count": 3,
   "id": "3abdacac",
   "metadata": {},
   "outputs": [],
   "source": [
    "from z3 import *"
   ]
  },
  {
   "cell_type": "code",
   "execution_count": 17,
   "id": "92accf79",
   "metadata": {},
   "outputs": [
    {
     "data": {
      "text/html": [
       "q &rArr; p"
      ],
      "text/plain": [
       "Implies(q, p)"
      ]
     },
     "execution_count": 17,
     "metadata": {},
     "output_type": "execute_result"
    }
   ],
   "source": [
    "q = Bool('q')\n",
    "my_false_theorem = Implies(q,p)\n",
    "my_false_theorem"
   ]
  },
  {
   "cell_type": "code",
   "execution_count": 18,
   "id": "93656bdd",
   "metadata": {
    "scrolled": true
   },
   "outputs": [
    {
     "name": "stdout",
     "output_type": "stream",
     "text": [
      "counterexample\n",
      "[p = False, q = True]\n"
     ]
    }
   ],
   "source": [
    "prove(my_false_theorem)"
   ]
  },
  {
   "cell_type": "code",
   "execution_count": 19,
   "id": "2960675a",
   "metadata": {},
   "outputs": [
    {
     "name": "stdout",
     "output_type": "stream",
     "text": [
      "proved\n"
     ]
    }
   ],
   "source": [
    "p, q, r = Bools('p q r')\n",
    "prove(Implies(And(Implies(p,q), Implies(q,r)), Implies(p,r)))"
   ]
  },
  {
   "cell_type": "code",
   "execution_count": 20,
   "id": "1ed9d576",
   "metadata": {},
   "outputs": [
    {
     "data": {
      "text/html": [
       "<b>unsat</b>"
      ],
      "text/plain": [
       "unsat"
      ]
     },
     "execution_count": 20,
     "metadata": {},
     "output_type": "execute_result"
    }
   ],
   "source": [
    "s = Solver()\n",
    "s.add(Not(Implies(And(Implies(p,q), Implies(q,r)), Implies(p,r))))\n",
    "s.check()"
   ]
  },
  {
   "cell_type": "code",
   "execution_count": 6,
   "id": "102bcef6",
   "metadata": {},
   "outputs": [
    {
     "data": {
      "text/html": [
       "<b>sat</b>"
      ],
      "text/plain": [
       "sat"
      ]
     },
     "execution_count": 6,
     "metadata": {},
     "output_type": "execute_result"
    }
   ],
   "source": [
    "p, q, r = Bools('p q r')\n",
    "s = Solver()\n",
    "s.add(Or(p))\n",
    "s.check()"
   ]
  },
  {
   "cell_type": "markdown",
   "id": "38358f75",
   "metadata": {},
   "source": [
    "_____________________"
   ]
  },
  {
   "cell_type": "markdown",
   "id": "07687129",
   "metadata": {},
   "source": [
    "### Proving that it is finite"
   ]
  },
  {
   "cell_type": "code",
   "execution_count": 12,
   "id": "3ce1399f",
   "metadata": {},
   "outputs": [],
   "source": [
    "def function_trusted(f:str):\n",
    "    #returns 1 iff all characters used are admissible\n",
    "    char_trusted = ['(',')','^','*','/','+','-','0','1','2','3','4','5','6','7','8','9','x','n','m']\n",
    "    i = 0\n",
    "    ok = True\n",
    "    while i<len(f) and ok:\n",
    "        if f[i] not in char_trusted:\n",
    "            ok = False\n",
    "        else:\n",
    "            i += 1\n",
    "    return ok"
   ]
  },
  {
   "cell_type": "code",
   "execution_count": 2,
   "id": "243bea51",
   "metadata": {},
   "outputs": [],
   "source": [
    "def number_of_variables(exp:str):\n",
    "    #It returns the number of variables of the input expression \n",
    "    list_variable = []\n",
    "    i = 0\n",
    "    while i<len(exp):\n",
    "        if exp[i]=='x':\n",
    "            i += 1\n",
    "            variable = ''\n",
    "            while i<len(exp) and exp[i] in ['0','1','2','3','4','5','6','7','8','9']:\n",
    "                variable += exp[i]\n",
    "                i += 1\n",
    "            list_variable += [int(variable)]\n",
    "        else:\n",
    "            i+=1\n",
    "            \n",
    "    return max(list_variable)"
   ]
  },
  {
   "cell_type": "code",
   "execution_count": 10,
   "id": "36229748",
   "metadata": {},
   "outputs": [],
   "source": [
    "def solver_N(n_variables,f,G):\n",
    "    #It returns the SMT value of not(f(g(x))<f(x)) (unsat, sat or unkown)\n",
    "    \n",
    "    assert function_trusted(f)\n",
    "    \n",
    "    #G é da forma (..., ..., ... ...)\n",
    "    \n",
    "    s = Solver()\n",
    "    \n",
    "    x = [0 for _ in range(n_variables)]\n",
    "    \n",
    "    #declaração das constantes\n",
    "    n = Int('n')\n",
    "    m = Int('m')\n",
    "    s.add(m>0)\n",
    "    for i in range(n_variables):\n",
    "        exec(\"x%d = Int('x%d')\"%(i+1,i+1))\n",
    "        exec(\"s.add(x%d > 0)\"%(i+1))\n",
    "        \n",
    "    #retirar espaços a G\n",
    "    g = ''\n",
    "    for c in G:\n",
    "        if c!=' ':\n",
    "            g += c\n",
    "    g = g[1:-1] #retirar os parêntesis\n",
    "    \n",
    "    comma_index = [i for i in range(len(g)) if g[i]==',']\n",
    "    gs = [g[0:comma_index[0]]] #projeção 1 de g\n",
    "    gs += [g[comma_index[i]+1:comma_index[i+1]] for i in range(len(comma_index)-1)]\n",
    "    gs += [g[comma_index[-1]+1:]] #projeção m de g\n",
    "    \n",
    "    for function_g in gs:\n",
    "        assert function_trusted(function_g)\n",
    "        \n",
    "    fog = f #substituir as ocorrências em f de x1 por g1(x), x2 por g2(x), etc.\n",
    "    for i in range(n_variables):\n",
    "        fog = fog.replace('x%d'%(i+1), gs[i])\n",
    "    \n",
    "    s.add(Not(eval(fog) < eval(f)))\n",
    "\n",
    "    return str(s.check())"
   ]
  },
  {
   "cell_type": "code",
   "execution_count": 13,
   "id": "04255606",
   "metadata": {
    "scrolled": false
   },
   "outputs": [
    {
     "name": "stdout",
     "output_type": "stream",
     "text": [
      "m = 3\n",
      "f(x) = x1+x2+x3\n",
      "\n",
      "x = (input(Z), ..., input(Z))\n",
      "while x > 0:\n",
      "   command = input(1,2,3)\n",
      "   if command == 1:\n",
      "      x = (x1-1,x2-1,x3+1-m)\n",
      "   if command == 2:\n",
      "      x = (x1-1,x2+1,x3-1+m)\n",
      "\n",
      "\n",
      "The programa is not finite.\n"
     ]
    }
   ],
   "source": [
    "def main():\n",
    "    #o output é 1 se o programa termina, 0 se não termina e 'unknown' caso não saiba.\n",
    "    m = int(input('m = '))\n",
    "    f = input('f(x) = ')\n",
    "    \n",
    "    print('\\nx = (input(Z), ..., input(Z))')\n",
    "    print('while x > 0:')\n",
    "    com = ''\n",
    "    if m<6:\n",
    "        for i in range(m):\n",
    "            com += '%d,'%(i+1)\n",
    "        com = com[:-1] #to exclude the last comma\n",
    "    else:\n",
    "        com = '1, 2, ..., %d, %d'%(m-1,m)\n",
    "\n",
    "    print('   command = input(%s)'%com)\n",
    "    \n",
    "    i = 1\n",
    "    ans = 'unsat'\n",
    "    n_f = number_of_variables(f)\n",
    "    while i<=m and ans=='unsat':\n",
    "        print('   if command == %d:'%i)\n",
    "        g = input('      x = ')\n",
    "        n_g = number_of_variables(g)\n",
    "\n",
    "        ans = solver_N(max(n_f,n_g),f,g)\n",
    "        \n",
    "        i += 1\n",
    "    \n",
    "    if ans == 'unsat':\n",
    "        print('\\nThe program is finite.')\n",
    "        return 1\n",
    "    \n",
    "    elif ans == 'sat':\n",
    "        print('\\n\\nThe programa is not finite.')\n",
    "        return 0\n",
    "    \n",
    "    else: #ans == 'unknown'\n",
    "        print('unknown')\n",
    "        return 'unknown'\n",
    "    \n",
    "if __name__ == \"__main__\":\n",
    "    main()"
   ]
  },
  {
   "cell_type": "markdown",
   "id": "2eadf49e",
   "metadata": {},
   "source": [
    "x1+x2+x3\n",
    "\n",
    "g1(x) = (x1-1,x2-1,x3+1)\n",
    "\n",
    "g2(x) = (x1-1,x2+1,x3-1)\n",
    "\n",
    "g3(x) = (x1-1, x2-1, x3+1)"
   ]
  },
  {
   "cell_type": "code",
   "execution_count": 27,
   "id": "fe445240",
   "metadata": {},
   "outputs": [
    {
     "data": {
      "text/html": [
       "p &or; q &or; r &or; q &or; p"
      ],
      "text/plain": [
       "Or(p, q, r, Or(q, p))"
      ]
     },
     "execution_count": 27,
     "metadata": {},
     "output_type": "execute_result"
    }
   ],
   "source": [
    "p, q, r = Bools('p q r')\n",
    "Or(p,q,r,Or(q,p))"
   ]
  },
  {
   "cell_type": "markdown",
   "id": "b99b0fe2",
   "metadata": {},
   "source": [
    "# A Proof Using the Lexicographic Order"
   ]
  },
  {
   "cell_type": "code",
   "execution_count": 1,
   "id": "1b3f4913",
   "metadata": {},
   "outputs": [],
   "source": [
    "from z3 import *"
   ]
  },
  {
   "cell_type": "code",
   "execution_count": 2,
   "id": "1239c7f1",
   "metadata": {},
   "outputs": [],
   "source": [
    "def function_trusted(f:str):\n",
    "    char_trusted = ['^','*','/','+','-','0','1','2','3','4','5','6','7','8','9','x','n']\n",
    "    i = 0\n",
    "    ok = True\n",
    "    while i<len(f) and ok:\n",
    "        if f[i] not in char_trusted:\n",
    "            ok = False\n",
    "        else:\n",
    "            i += 1\n",
    "    return ok"
   ]
  },
  {
   "cell_type": "code",
   "execution_count": 3,
   "id": "3f8e9d9b",
   "metadata": {},
   "outputs": [],
   "source": [
    "def number_of_variables(exp:str):\n",
    "    #It returns the number of variables of the input expression \n",
    "    list_variable = []\n",
    "    i = 0\n",
    "    while i<len(exp):\n",
    "        if exp[i]=='x':\n",
    "            i += 1\n",
    "            variable = ''\n",
    "            while i<len(exp) and exp[i] in ['0','1','2','3','4','5','6','7','8','9']:\n",
    "                variable += exp[i]\n",
    "                i += 1\n",
    "            list_variable += [int(variable)]\n",
    "        else:\n",
    "            i+=1\n",
    "            \n",
    "    return max(list_variable)"
   ]
  },
  {
   "cell_type": "code",
   "execution_count": 4,
   "id": "a263af76",
   "metadata": {},
   "outputs": [],
   "source": [
    "def solver_N_lex(n_variables:int, G:str) -> str:\n",
    "    #It returns the SMT value of not(g(x)<x) (unsat, sat or unkown)    \n",
    "    #G is of the form (..., ..., ... ..., ...)\n",
    "    \n",
    "    s = Solver()\n",
    "    \n",
    "    #declaração das constantes\n",
    "    n = Int('n')\n",
    "    nn = Int('nn')\n",
    "    s.add(nn>0)\n",
    "    for i in range(n_variables):\n",
    "        exec(\"x%d = Int('x%d')\"%(i+1,i+1))\n",
    "        exec(\"s.add(x%d > 0)\"%(i+1))\n",
    "        \n",
    "    #retirar espaços a G\n",
    "    g = ''\n",
    "    for c in G:\n",
    "        if c!=' ':\n",
    "            g += c\n",
    "    g = g[1:-1] #retirar os parêntesis\n",
    "    \n",
    "    comma_index = [i for i in range(len(g)) if g[i]==',']\n",
    "    gs = [g[0:comma_index[0]]] #projeção 1 de g\n",
    "    gs += [g[comma_index[i]+1:comma_index[i+1]] for i in range(len(comma_index)-1)]\n",
    "    gs += [g[comma_index[-1]+1:]] #projeção m de g\n",
    "    \n",
    "    for function_g in gs:\n",
    "        assert function_trusted(function_g)\n",
    " \n",
    "    formula = 'Or(' # (g1<x1) or (g1==x1 and g2<x2) or ... or (g1==x1 and g2==x2 and ... and g(n-1)==x(n-1) and gn<xn)\n",
    "    for i in range(1, n_variables+1):\n",
    "        if i==1:\n",
    "            aux = '(eval(gs[0])<x1)'\n",
    "        else:\n",
    "            aux = 'And(' #for example (x1=g1 and x2=g2 and x3<g3)\n",
    "            for j in range(1, i):\n",
    "                if j<i-1:\n",
    "                    aux += 'eval(gs[%d])==x%d, '%(j-1,j)\n",
    "                else:\n",
    "                    aux += 'eval(gs[%d])==x%d'%(j-1,j)\n",
    "            aux += ', eval(gs[%d])<x%d)'%(i-1,i)\n",
    "        formula += aux + ', '\n",
    "    formula = formula[:-2] + ')'\n",
    "    \n",
    "    formula = eval(formula)\n",
    "    \n",
    "    s.add(Not(formula))\n",
    "\n",
    "    return str(s.check())"
   ]
  },
  {
   "cell_type": "code",
   "execution_count": 6,
   "id": "e5fb4033",
   "metadata": {
    "scrolled": true
   },
   "outputs": [
    {
     "name": "stdout",
     "output_type": "stream",
     "text": [
      "m = 3\n",
      "\n",
      "x = (input(Z), ..., input(Z))\n",
      "while x > 0:\n",
      "   command = input(1,2,3)\n",
      "   if command == 1:\n",
      "      x = (x1-1, x2+20, x3, x4)\n",
      "   if command == 2:\n",
      "      x = (x1, x2-nn, x3+10, x4)\n",
      "   if command == 3:\n",
      "      x = (x1, x2, x3-1, x4+n)\n",
      "\n",
      "The program is finite.\n"
     ]
    }
   ],
   "source": [
    "def main():\n",
    "    #o output é 1 se o programa termina, 0 se não termina e 'unknown' caso não saiba.\n",
    "    m = int(input('m = '))\n",
    "    \n",
    "    print('\\nx = (input(Z), ..., input(Z))')\n",
    "    print('while x > 0:')\n",
    "    com = ''\n",
    "    if m<6:\n",
    "        for i in range(m):\n",
    "            com += '%d,'%(i+1)\n",
    "        com = com[:-1] #to exclude the last comma\n",
    "    else:\n",
    "        com = '1, 2, ..., %d, %d'%(m-1,m)\n",
    "\n",
    "    print('   command = input(%s)'%com)\n",
    "    \n",
    "    i = 1\n",
    "    ans = 'unsat'\n",
    "    while i<=m and ans=='unsat':\n",
    "        print('   if command == %d:'%i)\n",
    "        g = input('      x = ')\n",
    "        n_g = number_of_variables(g)\n",
    "\n",
    "        ans = solver_N_lex(n_g, g)\n",
    "        \n",
    "        i += 1\n",
    "    \n",
    "    if ans == 'unsat':\n",
    "        print('\\nThe program is finite.')\n",
    "        return 1\n",
    "    \n",
    "    elif ans == 'sat':\n",
    "        print('\\n\\nThe programa is not finite.')\n",
    "        return 0\n",
    "    \n",
    "    else: #ans == 'unknown'\n",
    "        print('unknown')\n",
    "        return 'unknown'\n",
    "    \n",
    "if __name__ == \"__main__\":\n",
    "    main()   "
   ]
  },
  {
   "cell_type": "markdown",
   "id": "2862e19d",
   "metadata": {},
   "source": [
    "m = 3\n",
    "\n",
    "   if command == 1:\n",
    "   \n",
    "      x = (x1-1, x2+20, x3, x4)\n",
    "      \n",
    "   if command == 2:\n",
    "   \n",
    "      x = (x1, x2-1, x3+10, x4)\n",
    "      \n",
    "   if command == 3:\n",
    "   \n",
    "      x = (x1, x2, x3-1, x4+1000)"
   ]
  },
  {
   "cell_type": "markdown",
   "id": "b361adef",
   "metadata": {},
   "source": [
    "#### Unification Algorithm"
   ]
  },
  {
   "attachments": {
    "imagem.png": {
     "image/png": "[encoded data removed]"
    }
   },
   "cell_type": "markdown",
   "id": "1f7a9cd3",
   "metadata": {},
   "source": [
    "![imagem.png](attachment:imagem.png)"
   ]
  },
  {
   "cell_type": "markdown",
   "id": "7e4e4e8b",
   "metadata": {},
   "source": [
    "<p style='text-align: justify;'> For the proof of termination of the algorithm consider a triple $(n_{var}, n_{lhs}, n_{eqn})$ where $n_{var}$ is the number of variables that occur more than once in the equation set, $n_{lhs}$ is the number of function symbols and constants on the left hand sides of potential equations, and $n_{eqn}$ is the number of equations. When rule eliminate is applied, $n_{var}$ decreases, since x is eliminated from G and kept only in {x ≐ t}. Applying any other rule can never increase $n_{var}$ again. When rule decompose, conflict, or swap is applied, $n_{lhs}$ decreases, since at least the left hand side's outermost f disappears. Applying any of the remaining rules delete or check can't increase $n_{lhs}$, but decreases $n_{eqn}$. Hence, any rule application decreases the triple $(n_{var}, n_{lhs}, n_{eqn})$ with respect to the lexicographical order, which is possible only a finite number of times. \n",
    "\n",
    "In Wikipedia. https://en.wikipedia.org/wiki/Unification_(computer_science)#Proof_of_termination </p>"
   ]
  },
  {
   "cell_type": "markdown",
   "id": "c28867d1",
   "metadata": {},
   "source": [
    "$(n_{var}, n_{lhs}, n_{eqn})$\n",
    "\n",
    "$n_{var}$ is the number of variables that occur more than once in the equation set;\n",
    "\n",
    "$n_{lhs}$ is the number of function symbols and constants on the left-hand sides of potential equations;\n",
    "\n",
    "$n_{eqn}$ is the number of equations.\n",
    "\n",
    "\n",
    "- delete $\\rightarrow$ $n_{eqn}$ decreases\n",
    "- decompose $\\rightarrow$ $n_{lhs}$ decreases\n",
    "- conflict $\\rightarrow$ terminates\n",
    "- swap $\\rightarrow$ $n_{lhs}$ decreases\n",
    "- eliminate $\\rightarrow$ $n_{var}$ decreases\n",
    "- ceck $\\rightarrow$ terminates"
   ]
  },
  {
   "cell_type": "code",
   "execution_count": 22,
   "id": "972f14c2",
   "metadata": {
    "scrolled": false
   },
   "outputs": [
    {
     "name": "stdout",
     "output_type": "stream",
     "text": [
      "\n",
      "x = (n_var, n_lhs, n_eqn)\n",
      "while x > 0:\n",
      "   command = DECIDES(delete, decompose, conflict, swap, eliminate, check)\n",
      "   if command == delete:\n",
      "      #n_eqn decreases\n",
      "      x = (x1, x2, x3-1)\n",
      "   if command == decompose:\n",
      "      #n_lhs decreases\n",
      "      x = (x1, x2-1, x3)\n",
      "   if command == swap:\n",
      "      #n_lhs decreases\n",
      "      x = (x1, x2-1, x3)\n",
      "   if command == eliminate:\n",
      "      #n_var decreases\n",
      "      x = (x1-1, x2, x3)\n",
      "\n",
      "The program is finite.\n"
     ]
    }
   ],
   "source": [
    "def main():\n",
    "    #o output é 1 se o programa termina, 0 se não termina e 'unknown' caso não saiba.\n",
    "    commands = ['delete', 'decompose', 'swap', 'eliminate']\n",
    "    commands_answers = ['(x1, x2, x3-1)', '(x1, x2-1, x3)', '(x1, x2-1, x3)', '(x1-1, x2, x3)']\n",
    "    comment = ['n_eqn decreases', 'n_lhs decreases', 'n_lhs decreases', 'n_var decreases']\n",
    "    \n",
    "    print('\\nx = (n_var, n_lhs, n_eqn)')\n",
    "    print('while x > 0:')\n",
    "    print('   command = DECIDES(delete, decompose, conflict, swap, eliminate, check)')\n",
    "    \n",
    "    i = 0\n",
    "    ans = 'unsat'\n",
    "    while i<len(commands) and ans=='unsat':\n",
    "        print('   if command == %s:'%commands[i])\n",
    "        print('      #%s'%comment[i])\n",
    "        print('      x = %s'%commands_answers[i])\n",
    "        g = commands_answers[i]\n",
    "        n_g = number_of_variables(g)\n",
    "\n",
    "        ans = solver_N_lex(n_g, g)\n",
    "        \n",
    "        i += 1\n",
    "    \n",
    "    if ans == 'unsat':\n",
    "        print('\\nThe program is finite.')\n",
    "        return 1\n",
    "    \n",
    "    elif ans == 'sat':\n",
    "        print('\\n\\nThe programa is not finite.')\n",
    "        return 0\n",
    "    \n",
    "    else: #ans == 'unknown'\n",
    "        print('unknown')\n",
    "        return 'unknown'\n",
    "    \n",
    "if __name__ == \"__main__\":\n",
    "    main()   "
   ]
  },
  {
   "cell_type": "markdown",
   "id": "b945b00a",
   "metadata": {},
   "source": [
    "G -> (n_var, n_lhs, n_eqn)"
   ]
  },
  {
   "cell_type": "markdown",
   "id": "8557b4e6",
   "metadata": {},
   "source": [
    "________________________"
   ]
  },
  {
   "cell_type": "markdown",
   "id": "bb83eac2",
   "metadata": {},
   "source": [
    "Following \"An Efficient Unification Algorithm\""
   ]
  },
  {
   "cell_type": "code",
   "execution_count": 15,
   "id": "11dd64f3",
   "metadata": {},
   "outputs": [],
   "source": [
    "from z3 import *"
   ]
  },
  {
   "cell_type": "code",
   "execution_count": 33,
   "id": "2602ae94",
   "metadata": {},
   "outputs": [],
   "source": [
    "def function_trusted(f:str):\n",
    "    char_trusted = ['^','*','/','+','-','0','1','2','3','4','5','6','7','8','9','x','n']\n",
    "    i = 0\n",
    "    ok = True\n",
    "    while i<len(f) and ok:\n",
    "        if f[i] not in char_trusted:\n",
    "            ok = False\n",
    "        else:\n",
    "            i += 1\n",
    "    return ok"
   ]
  },
  {
   "cell_type": "code",
   "execution_count": 34,
   "id": "80c2f3dd",
   "metadata": {},
   "outputs": [],
   "source": [
    "def number_of_variables(exp:str, subexp:str):\n",
    "    #It returns the number of variables of the input expression \n",
    "    list_variable = [0]\n",
    "    len_exp    = len(exp)\n",
    "    len_subexp = len(subexp)\n",
    "    i = 0\n",
    "    while i < len_exp-len_subexp:\n",
    "        if exp[i:i+len_subexp]==subexp:\n",
    "            i += len_subexp\n",
    "            variable = '0'\n",
    "            while i<len_exp and exp[i] in ['0','1','2','3','4','5','6','7','8','9']:\n",
    "                variable += exp[i]\n",
    "                i += 1\n",
    "            list_variable += [int(variable)]\n",
    "        else:\n",
    "            i+=1\n",
    "            \n",
    "    return max(list_variable)"
   ]
  },
  {
   "cell_type": "code",
   "execution_count": 39,
   "id": "740dd45d",
   "metadata": {},
   "outputs": [
    {
     "data": {
      "text/plain": [
       "5"
      ]
     },
     "execution_count": 39,
     "metadata": {},
     "output_type": "execute_result"
    }
   ],
   "source": [
    "number_of_variables('(nn3, nn5, n1)', 'n')"
   ]
  },
  {
   "cell_type": "code",
   "execution_count": 35,
   "id": "ee3a222d",
   "metadata": {},
   "outputs": [],
   "source": [
    "def solver_N_lex(n_x:int, n_n:int, n_nn:int, G:str) -> str:\n",
    "    #It returns the SMT value of not(g(x)<x) (unsat, sat or unkown)    \n",
    "    #G is of the form (..., ..., ... ..., ...)\n",
    "    \n",
    "    s = Solver()\n",
    "    \n",
    "    #declaração das constantes\n",
    "    nn = Int('nn')\n",
    "    s.add(nn>0)\n",
    "    for i in range(n_n):\n",
    "        exec(\"n%d = Int('n%d')\"%(i+1,i+1))\n",
    "    for i in range(n_nn):\n",
    "        exec(\"nn%d = Int('nn%d')\"%(i+1,i+1))\n",
    "        exec(\"s.add(Or(nn%d > 0, nn%d == 0))\"%(i+1, i+1))        \n",
    "    for i in range(n_x):\n",
    "        exec(\"x%d = Int('x%d')\"%(i+1,i+1))\n",
    "        exec(\"s.add(x%d > 0)\"%(i+1))\n",
    "        \n",
    "    #retirar espaços a G\n",
    "    g = ''\n",
    "    for c in G:\n",
    "        if c!=' ':\n",
    "            g += c\n",
    "    g = g[1:-1] #retirar os parêntesis\n",
    "    \n",
    "    comma_index = [i for i in range(len(g)) if g[i]==',']\n",
    "    gs = [g[0:comma_index[0]]] #projeção 1 de g\n",
    "    gs += [g[comma_index[i]+1:comma_index[i+1]] for i in range(len(comma_index)-1)]\n",
    "    gs += [g[comma_index[-1]+1:]] #projeção m de g\n",
    "    \n",
    "    for function_g in gs:\n",
    "        assert function_trusted(function_g)\n",
    " \n",
    "    formula = 'Or(' # (g1<x1) or (g1==x1 and g2<x2) or ... or (g1==x1 and g2==x2 and ... and g(n-1)==x(n-1) and gn<xn)\n",
    "    for i in range(1, n_x+1):\n",
    "        if i==1:\n",
    "            aux = '(eval(gs[0])<x1)'\n",
    "        else:\n",
    "            aux = 'And(' #for example (x1=g1 and x2=g2 and x3<g3)\n",
    "            for j in range(1, i):\n",
    "                if j<i-1:\n",
    "                    aux += 'eval(gs[%d])==x%d, '%(j-1,j)\n",
    "                else:\n",
    "                    aux += 'eval(gs[%d])==x%d'%(j-1,j)\n",
    "            aux += ', eval(gs[%d])<x%d)'%(i-1,i)\n",
    "        formula += aux + ', '\n",
    "    formula = formula[:-2] + ')'\n",
    "    \n",
    "    formula = eval(formula)\n",
    "    \n",
    "    s.add(Not(formula))\n",
    "\n",
    "    return str(s.check())"
   ]
  },
  {
   "cell_type": "code",
   "execution_count": 38,
   "id": "54ae58a9",
   "metadata": {
    "scrolled": false
   },
   "outputs": [
    {
     "name": "stdout",
     "output_type": "stream",
     "text": [
      "m = 4\n",
      "\n",
      "x = (input(Z), ..., input(Z))\n",
      "while x > 0:\n",
      "   command = input(1,2,3,4)\n",
      "   if command == 1:\n",
      "      x = (x1-nn1, x2, x3-nn)\n",
      "   if command == 2:\n",
      "      x = (x1-nn1, x2, x3-nn)\n",
      "   if command == 3:\n",
      "      x = (x1-nn2, x2-2, x3+nn1)\n",
      "   if command == 4:\n",
      "      x = (x1-nn, x2+nn1, x3+n1)\n",
      "\n",
      "The program is finite.\n"
     ]
    }
   ],
   "source": [
    "def main():\n",
    "    #o output é 1 se o programa termina, 0 se não termina e 'unknown' caso não saiba.\n",
    "    m = int(input('m = '))\n",
    "    \n",
    "    print('\\nx = (input(Z), ..., input(Z))')\n",
    "    print('while x > 0:')\n",
    "    command = ''\n",
    "    if m<6:\n",
    "        for i in range(m):\n",
    "            command += '%d,'%(i+1)\n",
    "        command = command[:-1] #to exclude the last comma\n",
    "    else:\n",
    "        command = '1, 2, ..., %d, %d'%(m-1,m)\n",
    "\n",
    "    print('   command = input(%s)'%command)\n",
    "    \n",
    "    i = 1\n",
    "    ans = 'unsat'\n",
    "    while i<=m and ans=='unsat':\n",
    "        print('   if command == %d:'%i)\n",
    "        g = input('      x = ')\n",
    "        n_x_g  = number_of_variables(g, 'x')\n",
    "        n_nn_g = number_of_variables(g, 'nn')\n",
    "        n_n    = number_of_variables(g, 'n')\n",
    "\n",
    "        ans = solver_N_lex(n_x_g, n_n, n_nn_g, g)\n",
    "        \n",
    "        i += 1\n",
    "    \n",
    "    if ans == 'unsat':\n",
    "        print('\\nThe program is finite.')\n",
    "        return 1\n",
    "    \n",
    "    elif ans == 'sat':\n",
    "        print('\\n\\nThe programa is not finite.')\n",
    "        return 0\n",
    "    \n",
    "    else: #ans == 'unknown'\n",
    "        print('unknown')\n",
    "        return 'unknown'\n",
    "    \n",
    "if __name__ == \"__main__\":\n",
    "    main()   "
   ]
  },
  {
   "cell_type": "markdown",
   "id": "cf4a1553",
   "metadata": {},
   "source": [
    "## Merging both orders"
   ]
  },
  {
   "cell_type": "markdown",
   "id": "b0705ab1",
   "metadata": {},
   "source": [
    "### z3 online"
   ]
  },
  {
   "cell_type": "code",
   "execution_count": 7,
   "id": "07741e3a",
   "metadata": {},
   "outputs": [],
   "source": [
    "from z3 import *"
   ]
  },
  {
   "cell_type": "code",
   "execution_count": 8,
   "id": "a24bbdef",
   "metadata": {},
   "outputs": [],
   "source": [
    "def function_trusted(f:str):\n",
    "    char_trusted = ['^','*','/','+','-','0','1','2','3','4','5','6','7','8','9','x','n']\n",
    "    i = 0\n",
    "    ok = True\n",
    "    while i<len(f) and ok:\n",
    "        if f[i] not in char_trusted:\n",
    "            ok = False\n",
    "        else:\n",
    "            i += 1\n",
    "    return ok"
   ]
  },
  {
   "cell_type": "code",
   "execution_count": 9,
   "id": "42901000",
   "metadata": {},
   "outputs": [],
   "source": [
    "def number_of_variables(exp:str, subexp:str):\n",
    "    #It returns the number of variables of the input expression \n",
    "    list_variable = [0]\n",
    "    len_exp    = len(exp)\n",
    "    len_subexp = len(subexp)\n",
    "    i = 0\n",
    "    while i < len_exp-len_subexp:\n",
    "        if exp[i:i+len_subexp]==subexp:\n",
    "            i += len_subexp\n",
    "            variable = '0'\n",
    "            while i<len_exp and exp[i] in ['0','1','2','3','4','5','6','7','8','9']:\n",
    "                variable += exp[i]\n",
    "                i += 1\n",
    "            list_variable += [int(variable)]\n",
    "        else:\n",
    "            i+=1\n",
    "            \n",
    "    return max(list_variable)"
   ]
  },
  {
   "cell_type": "code",
   "execution_count": 54,
   "id": "4f15f287",
   "metadata": {},
   "outputs": [],
   "source": [
    "def solver_N_lex(n_variables:int, F:str, G:str) -> str:\n",
    "    #It returns the SMT value of not(g(x)<x) (unsat, sat or unkown)    \n",
    "    #G is of the form (..., ..., ... ..., ...)\n",
    "    \n",
    "    s = Solver()\n",
    "    \n",
    "    #declaração das constantes\n",
    "    n = Int('n')\n",
    "    nn = Int('nn')\n",
    "    s.add(nn>0)\n",
    "    for i in range(n_variables):\n",
    "        exec(\"x%d = Int('x%d')\"%(i+1,i+1))\n",
    "        exec(\"s.add(x%d > 0)\"%(i+1))\n",
    "        \n",
    "    #retirar espaços a G\n",
    "    g = ''\n",
    "    for c in G:\n",
    "        if c!=' ':\n",
    "            g += c\n",
    "    if(g[0]=='('):\n",
    "        g = g[1:-1] #retirar os parêntesis\n",
    "    \n",
    "    comma_index = [i for i in range(len(g)) if g[i]==',']\n",
    "    if comma_index != 0:\n",
    "        gs = [g[0:comma_index[0]]] #projeção 1 de g\n",
    "        gs += [g[comma_index[i]+1:comma_index[i+1]] for i in range(len(comma_index)-1)]\n",
    "        gs += [g[comma_index[-1]+1:]] #projeção m de g\n",
    "    else:\n",
    "        gs = [g]\n",
    "    \n",
    "    for function_g in gs:\n",
    "        assert function_trusted(function_g)\n",
    "    \n",
    "    #retirar espaços a f\n",
    "    f = ''\n",
    "    for c in F:\n",
    "        if c!=' ':\n",
    "            f += c\n",
    "    if f[0] == '(':\n",
    "            f = f[1:-1] #retirar os parêntesis\n",
    "            \n",
    "    comma_index = [i for i in range(len(f)) if f[i]==',']\n",
    "    if len(comma_index)!=0:\n",
    "        fs = [f[0:comma_index[0]]] #projeção 1 de f\n",
    "        fs += [f[comma_index[i]+1:comma_index[i+1]] for i in range(len(comma_index)-1)]\n",
    "        fs += [f[comma_index[-1]+1:]] #projeção m de f\n",
    "    else:\n",
    "        fs = [f]\n",
    "    \n",
    "    for function_f in fs:\n",
    "        assert function_trusted(function_f)\n",
    "        \n",
    "    fog = f.upper() #substituir as ocorrências em f de x1 por g1(x), x2 por g2(x), etc.\n",
    "    for i in range(n_variables):\n",
    "        fog = fog.replace('X%d'%(i+1), gs[i])\n",
    "    \n",
    "    comma_index = [i for i in range(len(fog)) if fog[i]==',']\n",
    "    if len(comma_index)!=0:\n",
    "        fgs = [fog[0:comma_index[0]]] #projeção 1 de fog\n",
    "        fgs += [fog[comma_index[i]+1:comma_index[i+1]] for i in range(len(comma_index)-1)]\n",
    "        fgs += [fog[comma_index[-1]+1:]] #projeção m de fog\n",
    "    else:\n",
    "        fgs = [fog]\n",
    "    \n",
    "\n",
    "    formula = 'Or(' # ((fog)1<f1) or ((fog)1==f1 and (fog)2<f2) or ... or ((fog)1==f1 and (fog)2==f2 and ... and (fog)(n-1)==f(n-1) and (fog)n<fn)\n",
    "    for i in range(0, len(comma_index)+1):\n",
    "        if i==0:\n",
    "            aux = '(eval(fgs[0])<eval(fs[0]))'\n",
    "        else:\n",
    "            aux = 'And(' #for example (x1=g1 and x2=g2 and x3<g3)\n",
    "            for j in range(0, i):\n",
    "                if j<i-1:\n",
    "                    aux += 'eval(fgs[%d])==eval(fs[%d]), '%(j,j)\n",
    "                else:\n",
    "                    aux += 'eval(fgs[%d])==eval(fs[%d])'%(j,j)\n",
    "            aux += ', eval(fgs[%d])<eval(fs[%d]))'%(i,i)\n",
    "        formula += aux + ', '\n",
    "    formula = formula[:-2] + ')'\n",
    "    \n",
    "    formula = eval(formula)\n",
    "    \n",
    "    s.add(Not(formula))\n",
    "\n",
    "    return str(s.check())"
   ]
  },
  {
   "cell_type": "code",
   "execution_count": 55,
   "id": "02da05d4",
   "metadata": {
    "scrolled": true
   },
   "outputs": [
    {
     "name": "stdout",
     "output_type": "stream",
     "text": [
      "m = 3\n",
      "f(x) = x1+x2+x3\n",
      "\n",
      "x = (input(Z), ..., input(Z))\n",
      "while x > 0:\n",
      "   command = input(1,2,3)\n",
      "   if command == 1:\n",
      "      x = (x1-1,x2,x3)\n",
      "   if command == 2:\n",
      "      x = (x1-1,x2-1,x3+1)\n",
      "   if command == 3:\n",
      "      x = (x2,x1-1,x3)\n",
      "\n",
      "The program is finite.\n"
     ]
    }
   ],
   "source": [
    "def main():\n",
    "    #o output é 1 se o programa termina, 0 se não termina e 'unknown' caso não saiba.\n",
    "    m = int(input('m = '))\n",
    "    f = input('f(x) = ')\n",
    "    \n",
    "    print('\\nx = (input(Z), ..., input(Z))')\n",
    "    print('while x > 0:')\n",
    "    control = ''\n",
    "    if m<6:\n",
    "        for i in range(m):\n",
    "            control += '%d,'%(i+1)\n",
    "        control = control[:-1] #to exclude the last comma\n",
    "    else:\n",
    "        control = '1, 2, ..., %d, %d'%(m-1,m)\n",
    "\n",
    "    print('   command = input(%s)'%control)\n",
    "    \n",
    "    i = 1\n",
    "    ans = 'unsat'\n",
    "    n_f = number_of_variables(f, 'x')\n",
    "    while i<=m and ans=='unsat':\n",
    "        print('   if command == %d:'%i)\n",
    "        g = input('      x = ')\n",
    "        n_g = number_of_variables(g, 'x')\n",
    "\n",
    "        ans = solver_N_lex(max(n_f, n_g), f, g)\n",
    "        \n",
    "        i += 1\n",
    "    \n",
    "    if ans == 'unsat':\n",
    "        print('\\nThe program is finite.')\n",
    "        return 1\n",
    "    \n",
    "    elif ans == 'sat':\n",
    "        print('\\n\\nThe programa is not finite.')\n",
    "        return 0\n",
    "    \n",
    "    else: #ans == 'unknown'\n",
    "        print('unknown')\n",
    "        return 'unknown'\n",
    "    \n",
    "if __name__ == \"__main__\":\n",
    "    main()   "
   ]
  },
  {
   "cell_type": "markdown",
   "id": "4e72186f",
   "metadata": {},
   "source": [
    "## Using Matrices"
   ]
  },
  {
   "cell_type": "code",
   "execution_count": 15,
   "id": "6f16c182",
   "metadata": {},
   "outputs": [],
   "source": [
    "from z3 import *\n",
    "import itertools"
   ]
  },
  {
   "cell_type": "code",
   "execution_count": 35,
   "id": "2cf06ef1",
   "metadata": {},
   "outputs": [],
   "source": [
    "def product(A:list, B:list) -> list:\n",
    "    n = len(A)\n",
    "    res = [[0 for _ in range(n)] for _ in range(n)]\n",
    "    for i in range(n):\n",
    "        for j in range(n):\n",
    "            \n",
    "            minim = float('+inf')\n",
    "            \n",
    "            for k in range(n):\n",
    "                aux = A[i][k]+B[k][j]\n",
    "                if(aux < minim):\n",
    "                    minim = aux\n",
    "                    \n",
    "            res[i][j] = minim\n",
    "            \n",
    "    return res            "
   ]
  },
  {
   "cell_type": "code",
   "execution_count": 36,
   "id": "d1259e36",
   "metadata": {},
   "outputs": [
    {
     "data": {
      "text/plain": [
       "[[1, -3], [inf, inf]]"
      ]
     },
     "execution_count": 36,
     "metadata": {},
     "output_type": "execute_result"
    }
   ],
   "source": [
    "product([[-1, 0], [float('inf'), float('inf')]], [[float('inf'), -2], [1, float('inf')]])"
   ]
  },
  {
   "cell_type": "code",
   "execution_count": 37,
   "id": "0a13e4f0",
   "metadata": {},
   "outputs": [],
   "source": [
    "def negative_diagonalQ(A:list) -> bool:\n",
    "    i = 0\n",
    "    n = len(A)\n",
    "    found = False\n",
    "    while i<n and not found:\n",
    "        if A[i][i] < 0:\n",
    "            found = True\n",
    "        i += 1\n",
    "    return found"
   ]
  },
  {
   "cell_type": "code",
   "execution_count": 38,
   "id": "3912eb15",
   "metadata": {
    "scrolled": true
   },
   "outputs": [
    {
     "data": {
      "text/plain": [
       "False"
      ]
     },
     "execution_count": 38,
     "metadata": {},
     "output_type": "execute_result"
    }
   ],
   "source": [
    "negative_diagonalQ([[1, -3], [float('inf'), float('inf')]])"
   ]
  },
  {
   "cell_type": "code",
   "execution_count": 55,
   "id": "e100ec0b",
   "metadata": {},
   "outputs": [],
   "source": [
    "def product_m_ngQ(matrix_list:list, m:int) -> bool:\n",
    "    #check if any product of m matrixes satisfies negative_diagonalQ\n",
    "    \n",
    "    n = len(matrix_list)\n",
    "    inp = [list(range(n))] * m\n",
    "    product_index_list = list(itertools.product(*inp))\n",
    "\n",
    "    len_tup = len(product_index_list)\n",
    "    \n",
    "    i = 0\n",
    "    ok = True\n",
    "    while i<len_tup and ok:\n",
    "        tup = product_index_list[i]\n",
    "        \n",
    "        aux = matrix_list[tup[0]]\n",
    "        for j in range(1, m):\n",
    "            aux = product(aux, matrix_list[tup[j]])\n",
    "            print(aux)\n",
    "            \n",
    "        if(not negative_diagonalQ(aux)):\n",
    "            ok = False\n",
    "        \n",
    "        i += 1\n",
    "    \n",
    "    return ok"
   ]
  },
  {
   "cell_type": "code",
   "execution_count": 40,
   "id": "391f55fe",
   "metadata": {},
   "outputs": [],
   "source": [
    "def product_up2m_ngQ(matrix_list:list, m:int) -> bool: \n",
    "    #check if any product of up to m matrixes satisfies negative_diagonalQ\n",
    "    i = 1\n",
    "    ok = True\n",
    "    while i<=m and ok:\n",
    "        ok = product_m_ngQ(matrix_list, i)\n",
    "        i += 1\n",
    "        \n",
    "    return ok"
   ]
  },
  {
   "cell_type": "code",
   "execution_count": 41,
   "id": "683a3df9",
   "metadata": {},
   "outputs": [
    {
     "data": {
      "text/plain": [
       "True"
      ]
     },
     "execution_count": 41,
     "metadata": {},
     "output_type": "execute_result"
    }
   ],
   "source": [
    "c1 = [[float('inf') for _ in range(4)] for _ in range(4)]\n",
    "c1[0][0] = -1\n",
    "c1[2][2] = 0\n",
    "c1[3][3] = 0\n",
    "\n",
    "c2 = [[float('inf') for _ in range(4)] for _ in range(4)]\n",
    "c2[0][0] = 0\n",
    "c2[1][1] = -1\n",
    "c2[3][3] = 0\n",
    "\n",
    "c3 = [[float('inf') for _ in range(4)] for _ in range(4)]\n",
    "c3[0][0] = 0\n",
    "c3[1][1] = 0\n",
    "c3[2][2] = -1\n",
    "\n",
    "product_up2m_ngQ([c1, c2, c3], 10)"
   ]
  },
  {
   "cell_type": "code",
   "execution_count": 44,
   "id": "f85703db",
   "metadata": {},
   "outputs": [],
   "source": [
    "def function2matrix(G:str) -> list:\n",
    "    #given function lambda (x1, x2, x3): (x1-1, x2, x3) construct its matrix\n",
    "    #to_evaluate indicates what expressions will be expressed on the matrices\n",
    "    #for example to_evaluate = [x1]\n",
    "    \n",
    "    #remove spaces from G\n",
    "    g = ''\n",
    "    for c in G:\n",
    "        if c!=' ':\n",
    "            g += c\n",
    "    g = g[1:-1] #remove parentheses\n",
    "    \n",
    "    comma_index = [i for i in range(len(g)) if g[i]==',']\n",
    "    gs = [g[0:comma_index[0]]] #projection 1 of g\n",
    "    gs += [g[comma_index[i]+1:comma_index[i+1]] for i in range(len(comma_index)-1)]\n",
    "    gs += [g[comma_index[-1]+1:]] #projection m of g\n",
    "    \n",
    "    dim = len(comma_index) + 1 #dimension of g\n",
    "    \n",
    "    n = Int('n')\n",
    "    for i in range(dim):\n",
    "        exec(\"x%d = Int('x%d')\"%(i+1,i+1))\n",
    "    \n",
    "    matrix_result = [[0 for _ in range(dim)] for _ in range(dim)]\n",
    "    \n",
    "    for i in range(dim):\n",
    "        for j in range(dim):\n",
    "            try:\n",
    "                #evaluates the difference and atributes if it is an integer\n",
    "                aux = gs[j] + \"-\" + \"x%s\"%(i+1)\n",
    "                matrix_result[i][j] = simplify(eval(aux)).as_long()\n",
    "            except AttributeError:\n",
    "                #if its not an integer set it to +oo\n",
    "                matrix_result[i][j] = float('inf')\n",
    "                \n",
    "    return matrix_result\n",
    "    "
   ]
  },
  {
   "cell_type": "code",
   "execution_count": null,
   "id": "84eb6c17",
   "metadata": {},
   "outputs": [],
   "source": [
    "#Second version -> to_evaluate\n",
    "\n",
    "def function2matrix(G:str, to_evaluate:list = []) -> list:\n",
    "    #given function lambda (x1, x2, x3): (x1-1, x2, x3) construct its matrix\n",
    "    #to_evaluate indicates what expressions will be expressed on the matrices\n",
    "    #for example to_evaluate = [x1]\n",
    "    \n",
    "    #remove spaces from G\n",
    "    g = ''\n",
    "    for c in G:\n",
    "        if c!=' ':\n",
    "            g += c\n",
    "    g = g[1:-1] #remove parentheses\n",
    "    \n",
    "    comma_index = [i for i in range(len(g)) if g[i]==',']\n",
    "    gs = [g[0:comma_index[0]]] #projection 1 of g\n",
    "    gs += [g[comma_index[i]+1:comma_index[i+1]] for i in range(len(comma_index)-1)]\n",
    "    gs += [g[comma_index[-1]+1:]] #projection m of g\n",
    "    \n",
    "    dim = len(comma_index) + 1 #dimension of g\n",
    "    \n",
    "    if len(to_evaluate)==0:\n",
    "        for i in range(dim):\n",
    "            to_evaluate += [\"x%d\"%(i+1)]\n",
    "    else:\n",
    "        dim = len(to_evaluate)\n",
    "    \n",
    "    n = Int('n')\n",
    "    for i in range(dim):\n",
    "        exec(\"x%d = Int('x%d')\"%(i+1,i+1))\n",
    "    \n",
    "    matrix_result = [[0 for _ in range(dim)] for _ in range(dim)]\n",
    "    \n",
    "    for i in range(dim):\n",
    "        for j in range(dim):\n",
    "            try:\n",
    "                #evaluates the difference and atributes if it is an integer\n",
    "                aux = gs[j] + \"-\" + \"x%s\"%(i+1) #x_new - x_old\n",
    "                matrix_result[i][j] = simplify(eval(aux)).as_long()\n",
    "            except AttributeError:\n",
    "                #if its not an integer set it to +oo\n",
    "                matrix_result[i][j] = float('inf')\n",
    "                \n",
    "    return matrix_result"
   ]
  },
  {
   "cell_type": "code",
   "execution_count": 67,
   "id": "494bc0d5",
   "metadata": {
    "scrolled": true
   },
   "outputs": [
    {
     "data": {
      "text/plain": [
       "[[inf, inf], [inf, inf]]"
      ]
     },
     "execution_count": 67,
     "metadata": {},
     "output_type": "execute_result"
    }
   ],
   "source": [
    "c1 = function2matrix(\"(x1-n, x1+n)\")\n",
    "c1"
   ]
  },
  {
   "cell_type": "code",
   "execution_count": 58,
   "id": "5f8387d2",
   "metadata": {
    "scrolled": false
   },
   "outputs": [
    {
     "name": "stdout",
     "output_type": "stream",
     "text": [
      "maximum exponent = 7\n",
      "m = 3\n",
      "\n",
      "x = (input(Z), ..., input(Z))\n",
      "while x > 0:\n",
      "   command = input(1,2,3)\n",
      "   if command == 1:\n",
      "      x = (x1-1, x2+n, x3, x4)\n",
      "   if command == 2:\n",
      "      x = (x1, x2-1, x3+n, x4)\n",
      "   if command == 3:\n",
      "      x = (x1, x2, x3-1, x4+n)\n",
      "unknown\n"
     ]
    }
   ],
   "source": [
    "def main():\n",
    "    #the output is 1 if the program terminates, 0 if it doesn't and 'unknown' if it can't decide.\n",
    "    max_exp = int(input('maximum exponent = '))\n",
    "    \n",
    "    m = int(input('m = '))\n",
    "    \n",
    "    print('\\nx = (input(Z), ..., input(Z))')\n",
    "    print('while x > 0:')\n",
    "    com = ''\n",
    "    if m<6:\n",
    "        for i in range(m):\n",
    "            com += '%d,'%(i+1)\n",
    "        com = com[:-1] #to exclude the last comma\n",
    "    else:\n",
    "        com = '1, 2, ..., %d, %d'%(m-1,m)\n",
    "\n",
    "    print('   command = input(%s)'%com)\n",
    "    \n",
    "    matrix_list = []\n",
    "    \n",
    "    for i in range(1, m+1):\n",
    "        print('   if command == %d:'%i)\n",
    "        g = input('      x = ')\n",
    "        matrix_list += [function2matrix(g)]\n",
    "        \n",
    "    ans = product_up2m_ngQ(matrix_list, max_exp)\n",
    "    \n",
    "    if ans:\n",
    "        print(\"\\nUp to exponent %s it didn't found problems.\"%max_exp)\n",
    "        return 1\n",
    "    \n",
    "    else:\n",
    "        print('unknown')\n",
    "        return 'unknown'\n",
    "    \n",
    "if __name__ == \"__main__\":\n",
    "    main()   "
   ]
  },
  {
   "cell_type": "markdown",
   "id": "8fdeec11",
   "metadata": {},
   "source": [
    "(x1-1, x2+n, x3, x4)\n",
    "(x1, x2-1, x3+n, x4)\n",
    "(x1, x2, x3-1, x4+n)"
   ]
  },
  {
   "cell_type": "code",
   "execution_count": 204,
   "id": "1a2bd433",
   "metadata": {},
   "outputs": [
    {
     "name": "stdout",
     "output_type": "stream",
     "text": [
      "['min(a1+min(a2+a3, b2+c3), b1+min(c2+a3, d2+c3))', 'min(a1+min(a2+b3, b2+d3), b1+min(c2+b3, d2+d3))']\n",
      "['min(c1+min(a2+a3, b2+c3), d1+min(c2+a3, d2+c3))', 'min(c1+min(a2+b3, b2+d3), d1+min(c2+b3, d2+d3))']\n"
     ]
    }
   ],
   "source": [
    "c1 = [['a1', 'b1'], ['c1', 'd1']]\n",
    "c2 = [['min(a2+a3, b2+c3)', 'min(a2+b3, b2+d3)'], ['min(c2+a3, d2+c3)', 'min(c2+b3, d2+d3)']]\n",
    "\n",
    "\n",
    "ans = [[0 for _ in range(len(c1))] for _ in range(len(c2))]\n",
    "\n",
    "for i in range(len(c1)):\n",
    "    for j in range(len(c1)):\n",
    "        ans[i][j] = 'min(%s+%s, %s+%s)'%(c1[i][0], c2[0][j], c1[i][1], c2[1][j])\n",
    "        \n",
    "print(*ans, sep = \"\\n\")"
   ]
  },
  {
   "cell_type": "code",
   "execution_count": null,
   "id": "562eb134",
   "metadata": {},
   "outputs": [],
   "source": [
    "(c1 c2) c3 = ['min(min(a1+a2, b1+c2)+a3, min(a1+b2, b1+d2)+c3)', 'min(min(a1+a2, b1+c2)+b3, min(a1+b2, b1+d2)+d3)']\n",
    "             ['min(min(c1+a2, d1+c2)+a3, min(c1+b2, d1+d2)+c3)', 'min(min(c1+a2, d1+c2)+b3, min(c1+b2, d1+d2)+d3)']\n",
    "\n",
    "    \n",
    "c1 (c2 c3) = ['min(a1+min(a2+a3, b2+c3), b1+min(c2+a3, d2+c3))', 'min(a1+min(a2+b3, b2+d3), b1+min(c2+b3, d2+d3))']\n",
    "             ['min(c1+min(a2+a3, b2+c3), d1+min(c2+a3, d2+c3))', 'min(c1+min(a2+b3, b2+d3), d1+min(c2+b3, d2+d3))']"
   ]
  },
  {
   "cell_type": "code",
   "execution_count": 17,
   "id": "aee5ad2f",
   "metadata": {},
   "outputs": [],
   "source": [
    "import random"
   ]
  },
  {
   "cell_type": "code",
   "execution_count": 403,
   "id": "a5d4eff2",
   "metadata": {},
   "outputs": [
    {
     "data": {
      "text/plain": [
       "True"
      ]
     },
     "execution_count": 403,
     "metadata": {},
     "output_type": "execute_result"
    }
   ],
   "source": [
    "a1 = random.randint(-100, 100) if random.randint(-100, 100) < 70 else float('inf')\n",
    "a2 = random.randint(-100, 100) if random.randint(-100, 100) < 70 else float('inf')\n",
    "a3 = random.randint(-100, 100) if random.randint(-100, 100) < 70 else float('inf')\n",
    "b1 = random.randint(-100, 100) if random.randint(-100, 100) < 70 else float('inf')\n",
    "b2 = random.randint(-100, 100) if random.randint(-100, 100) < 70 else float('inf')\n",
    "b3 = random.randint(-100, 100) if random.randint(-100, 100) < 70 else float('inf')\n",
    "c1 = random.randint(-100, 100) if random.randint(-100, 100) < 70 else float('inf')\n",
    "c2 = random.randint(-100, 100) if random.randint(-100, 100) < 70 else float('inf')\n",
    "c3 = random.randint(-100, 100) if random.randint(-100, 100) < 70 else float('inf')\n",
    "d1 = random.randint(-100, 100) if random.randint(-100, 100) < 70 else float('inf')\n",
    "d2 = random.randint(-100, 100) if random.randint(-100, 100) < 70 else float('inf')\n",
    "d3 = random.randint(-100, 100) if random.randint(-100, 100) < 70 else float('inf')\n",
    "\n",
    "[[min(min(a1+a2, b1+c2)+a3, min(a1+b2, b1+d2)+c3), min(min(a1+a2, b1+c2)+b3, min(a1+b2, b1+d2)+d3)], [min(min(c1+a2, d1+c2)+a3, min(c1+b2, d1+d2)+c3), min(min(c1+a2, d1+c2)+b3, min(c1+b2, d1+d2)+d3)]] == [[min(a1+min(a2+a3, b2+c3), b1+min(c2+a3, d2+c3)), min(a1+min(a2+b3, b2+d3), b1+min(c2+b3, d2+d3))], [min(c1+min(a2+a3, b2+c3), d1+min(c2+a3, d2+c3)), min(c1+min(a2+b3, b2+d3), d1+min(c2+b3, d2+d3))]]"
   ]
  },
  {
   "cell_type": "code",
   "execution_count": 11,
   "id": "b3e25ad8",
   "metadata": {},
   "outputs": [],
   "source": [
    "ans = ['min{a+min{a+min{a+min{2a, b+c}, b+c+min{a, d}}, b+min{c+min{2a, b+c}, d+c+min{a, d}}}, b+min{c+min{a+min{2a, b+c}, b+c+min{a, d}}, d+min{c+min{2a, b+c}, d+c+min{a, d}}}}', 'min{a+min{a+min{a+b+min{a, d}, b+min{c+b, 2d}}, b+min{c+b+min{a, d}, d+min{c+b, 2d}}}, b+min{c+min{a+b+min{a, d}, b+min{c+b, 2d}}, d+min{c+b+min{a, d}, d+min{c+b, 2d}}}}']\n",
    "['min{c+min{a+min{a+min{2a, b+c}, b+c+min{a, d}}, b+min{c+min{2a, b+c}, d+c+min{a, d}}}, d+min{c+min{a+min{2a, b+c}, b+c+min{a, d}}, d+min{c+min{2a, b+c}, d+c+min{a, d}}}}', 'min{c+min{a+min{a+b+min{a, d}, b+min{c+b, 2d}}, b+min{c+b+min{a, d}, d+min{c+b, 2d}}}, d+min{c+min{a+b+min{a, d}, b+min{c+b, 2d}}, d+min{c+b+min{a, d}, d+min{c+b, 2d}}}}']"
   ]
  },
  {
   "cell_type": "code",
   "execution_count": null,
   "id": "c94d0c45",
   "metadata": {},
   "outputs": [],
   "source": [
    "[['min{2a, b+c}', 'min{a+b, b+d}'], \n",
    " ['min{c+a, d+c}', 'min{c+b, 2d}']]\n",
    "\n",
    "[['min{a+min{2a, b+c}, b+c+min{a, d}}', 'min{a+b+min{a, d}, b+min{c+b, 2d}}'], \n",
    " ['min{c+min{2a, b+c}, d+c+min{a, d}}', 'min{c+b+min{a, d}, d+min{c+b, 2d}}']]\n",
    "\n",
    "[['min{a+min{a+min{2a, b+c}, b+c+min{a, d}}, b+c+min{min{2a, b+c}, d+min{a, d}}}', 'b+min{a+min{a+min{a, d}, min{c+b, 2d}}, min{c+b+min{a, d}, d+min{c+b, 2d}}}'],\n",
    " ['c+min{min{a+min{2a, b+c}, b+c+min{a, d}}, d+min{min{2a, b+c}, d+min{a, d}}}', 'min{c+b+min{a+min{a, d}, min{c+b, 2d}}, d+min{c+b+min{a, d}, d+min{c+b, 2d}}}']]\n",
    "\n"
   ]
  },
  {
   "cell_type": "code",
   "execution_count": 14,
   "id": "687cd37b",
   "metadata": {},
   "outputs": [
    {
     "name": "stdout",
     "output_type": "stream",
     "text": [
      "['min{a1+a2, b1+c2}', 'min{a1+b2, b1+d2}']\n",
      "['min{c1+a2, d1+c2}', 'min{c1+b2, d1+d2}']\n"
     ]
    }
   ],
   "source": [
    "c1 = [['a1', 'b1'], ['c1', 'd1']]\n",
    "c2 = [['a2', 'b2'], ['c2', 'd2']]\n",
    "\n",
    "ans = [[0 for _ in range(len(c1))] for _ in range(len(c2))]\n",
    "\n",
    "for i in range(len(c1)):\n",
    "    for j in range(len(c1)):\n",
    "        ans[i][j] = 'min{%s+%s, %s+%s}'%(c1[i][0], c2[0][j], c1[i][1], c2[1][j])\n",
    "        \n",
    "print(*ans, sep = \"\\n\")"
   ]
  },
  {
   "cell_type": "markdown",
   "id": "35f6d008",
   "metadata": {},
   "source": [
    "_Lema_: Se $C$ for uma matriz $2 \\times 2$ com $C_{11}$, $C_{22}$$<0$, então $C^n$ tem elemento negativo na diagonal, $\\forall n$.\n",
    "\n",
    "_Dem_: Indução em $n$."
   ]
  },
  {
   "cell_type": "markdown",
   "id": "86af5c1f",
   "metadata": {},
   "source": [
    "_____________"
   ]
  },
  {
   "cell_type": "markdown",
   "id": "14e73b0c",
   "metadata": {},
   "source": [
    "_Lema_: Dadas $C_1$, ..., $C_m$ matriz $n \\times n$. Então não é decidível se um qualquer produto de matrizes tem um elemento negativo na diagonal."
   ]
  },
  {
   "cell_type": "code",
   "execution_count": null,
   "id": "bb2097ac",
   "metadata": {},
   "outputs": [],
   "source": [
    "a1<0 && b1+c1<0\n",
    "\n",
    "a1<0 && d1<0\n",
    "\n",
    "b1+c1<0 && d1<0"
   ]
  },
  {
   "cell_type": "code",
   "execution_count": 90,
   "id": "fdbafad7",
   "metadata": {},
   "outputs": [],
   "source": [
    "def product(A:list, B:list) -> list:\n",
    "    n = len(A)\n",
    "    res = [[0 for _ in range(n)] for _ in range(n)]\n",
    "    for i in range(n):\n",
    "        for j in range(n):\n",
    "            minim = float('+inf')\n",
    "            \n",
    "            for k in range(n):\n",
    "                print(str(i)+' '+str(k)+' '+str(j))\n",
    "                aux = A[i][k]+B[k][j]\n",
    "                if(aux < minim):\n",
    "                    minim = aux\n",
    "                    \n",
    "            res[i][j] = minim\n",
    "            \n",
    "    return res            "
   ]
  },
  {
   "cell_type": "code",
   "execution_count": 20,
   "id": "407dec99",
   "metadata": {
    "scrolled": true
   },
   "outputs": [
    {
     "name": "stdout",
     "output_type": "stream",
     "text": [
      "[[2, 2], [2, 2]] = [[1, 1], [1, 1]]\n"
     ]
    }
   ],
   "source": [
    "a = [[1, 1],[1, 1]]\n",
    "print(str(product(a,a))+' = '+str(a))"
   ]
  },
  {
   "cell_type": "code",
   "execution_count": 92,
   "id": "2b48655f",
   "metadata": {
    "scrolled": true
   },
   "outputs": [
    {
     "name": "stdout",
     "output_type": "stream",
     "text": [
      "3\n",
      "[[1, 1, 1], [1, 1, 1], [1, 1]]\n",
      "0 0 0\n",
      "0 1 0\n",
      "0 2 0\n",
      "0 0 1\n",
      "0 1 1\n",
      "0 2 1\n",
      "0 0 2\n",
      "0 1 2\n",
      "0 2 2\n"
     ]
    },
    {
     "ename": "IndexError",
     "evalue": "list index out of range",
     "output_type": "error",
     "traceback": [
      "\u001b[0;31m---------------------------------------------------------------------------\u001b[0m",
      "\u001b[0;31mIndexError\u001b[0m                                Traceback (most recent call last)",
      "\u001b[0;32m/tmp/ipykernel_145/3042559062.py\u001b[0m in \u001b[0;36m<module>\u001b[0;34m\u001b[0m\n\u001b[1;32m     16\u001b[0m     \u001b[0mprint\u001b[0m\u001b[0;34m(\u001b[0m\u001b[0mlen\u001b[0m\u001b[0;34m(\u001b[0m\u001b[0ma\u001b[0m\u001b[0;34m[\u001b[0m\u001b[0;36m0\u001b[0m\u001b[0;34m]\u001b[0m\u001b[0;34m)\u001b[0m\u001b[0;34m)\u001b[0m\u001b[0;34m\u001b[0m\u001b[0;34m\u001b[0m\u001b[0m\n\u001b[1;32m     17\u001b[0m     \u001b[0mprint\u001b[0m\u001b[0;34m(\u001b[0m\u001b[0ma\u001b[0m\u001b[0;34m)\u001b[0m\u001b[0;34m\u001b[0m\u001b[0;34m\u001b[0m\u001b[0m\n\u001b[0;32m---> 18\u001b[0;31m     \u001b[0mbb\u001b[0m \u001b[0;34m=\u001b[0m \u001b[0mproduct\u001b[0m\u001b[0;34m(\u001b[0m\u001b[0ma\u001b[0m\u001b[0;34m,\u001b[0m\u001b[0ma\u001b[0m\u001b[0;34m)\u001b[0m\u001b[0;34m\u001b[0m\u001b[0;34m\u001b[0m\u001b[0m\n\u001b[0m\u001b[1;32m     19\u001b[0m     \u001b[0mbb_inf_ind\u001b[0m \u001b[0;34m=\u001b[0m \u001b[0;34m[\u001b[0m\u001b[0;34m(\u001b[0m\u001b[0mj\u001b[0m\u001b[0;34m,\u001b[0m\u001b[0mjj\u001b[0m\u001b[0;34m)\u001b[0m \u001b[0;32mfor\u001b[0m \u001b[0mj\u001b[0m \u001b[0;32min\u001b[0m \u001b[0mrange\u001b[0m\u001b[0;34m(\u001b[0m\u001b[0mlen\u001b[0m\u001b[0;34m(\u001b[0m\u001b[0mbb\u001b[0m\u001b[0;34m)\u001b[0m\u001b[0;34m)\u001b[0m \u001b[0;32mfor\u001b[0m \u001b[0mjj\u001b[0m \u001b[0;32min\u001b[0m \u001b[0mrange\u001b[0m\u001b[0;34m(\u001b[0m\u001b[0mlen\u001b[0m\u001b[0;34m(\u001b[0m\u001b[0mbb\u001b[0m\u001b[0;34m[\u001b[0m\u001b[0mj\u001b[0m\u001b[0;34m]\u001b[0m\u001b[0;34m)\u001b[0m\u001b[0;34m)\u001b[0m \u001b[0;32mif\u001b[0m \u001b[0mbb\u001b[0m\u001b[0;34m[\u001b[0m\u001b[0mj\u001b[0m\u001b[0;34m]\u001b[0m\u001b[0;34m[\u001b[0m\u001b[0mjj\u001b[0m\u001b[0;34m]\u001b[0m\u001b[0;34m!=\u001b[0m\u001b[0;34m'1'\u001b[0m\u001b[0;34m]\u001b[0m\u001b[0;34m\u001b[0m\u001b[0;34m\u001b[0m\u001b[0m\n\u001b[1;32m     20\u001b[0m \u001b[0;34m\u001b[0m\u001b[0m\n",
      "\u001b[0;32m/tmp/ipykernel_145/2714995402.py\u001b[0m in \u001b[0;36mproduct\u001b[0;34m(A, B)\u001b[0m\n\u001b[1;32m      8\u001b[0m             \u001b[0;32mfor\u001b[0m \u001b[0mk\u001b[0m \u001b[0;32min\u001b[0m \u001b[0mrange\u001b[0m\u001b[0;34m(\u001b[0m\u001b[0mn\u001b[0m\u001b[0;34m)\u001b[0m\u001b[0;34m:\u001b[0m\u001b[0;34m\u001b[0m\u001b[0;34m\u001b[0m\u001b[0m\n\u001b[1;32m      9\u001b[0m                 \u001b[0mprint\u001b[0m\u001b[0;34m(\u001b[0m\u001b[0mstr\u001b[0m\u001b[0;34m(\u001b[0m\u001b[0mi\u001b[0m\u001b[0;34m)\u001b[0m\u001b[0;34m+\u001b[0m\u001b[0;34m' '\u001b[0m\u001b[0;34m+\u001b[0m\u001b[0mstr\u001b[0m\u001b[0;34m(\u001b[0m\u001b[0mk\u001b[0m\u001b[0;34m)\u001b[0m\u001b[0;34m+\u001b[0m\u001b[0;34m' '\u001b[0m\u001b[0;34m+\u001b[0m\u001b[0mstr\u001b[0m\u001b[0;34m(\u001b[0m\u001b[0mj\u001b[0m\u001b[0;34m)\u001b[0m\u001b[0;34m)\u001b[0m\u001b[0;34m\u001b[0m\u001b[0;34m\u001b[0m\u001b[0m\n\u001b[0;32m---> 10\u001b[0;31m                 \u001b[0maux\u001b[0m \u001b[0;34m=\u001b[0m \u001b[0mA\u001b[0m\u001b[0;34m[\u001b[0m\u001b[0mi\u001b[0m\u001b[0;34m]\u001b[0m\u001b[0;34m[\u001b[0m\u001b[0mk\u001b[0m\u001b[0;34m]\u001b[0m\u001b[0;34m+\u001b[0m\u001b[0mB\u001b[0m\u001b[0;34m[\u001b[0m\u001b[0mk\u001b[0m\u001b[0;34m]\u001b[0m\u001b[0;34m[\u001b[0m\u001b[0mj\u001b[0m\u001b[0;34m]\u001b[0m\u001b[0;34m\u001b[0m\u001b[0;34m\u001b[0m\u001b[0m\n\u001b[0m\u001b[1;32m     11\u001b[0m                 \u001b[0;32mif\u001b[0m\u001b[0;34m(\u001b[0m\u001b[0maux\u001b[0m \u001b[0;34m<\u001b[0m \u001b[0mminim\u001b[0m\u001b[0;34m)\u001b[0m\u001b[0;34m:\u001b[0m\u001b[0;34m\u001b[0m\u001b[0;34m\u001b[0m\u001b[0m\n\u001b[1;32m     12\u001b[0m                     \u001b[0mminim\u001b[0m \u001b[0;34m=\u001b[0m \u001b[0maux\u001b[0m\u001b[0;34m\u001b[0m\u001b[0;34m\u001b[0m\u001b[0m\n",
      "\u001b[0;31mIndexError\u001b[0m: list index out of range"
     ]
    }
   ],
   "source": [
    "n = 3\n",
    "for i in range(2**(n**2)):\n",
    "    x = '0'*(2**n-len(bin(i)[2:]))+bin(i)[2:]\n",
    "    b = [1 if xx=='0' else float('inf') for xx in x]\n",
    "    \n",
    "    \n",
    "    a = [[] for _ in range(n)]\n",
    "    j = 0\n",
    "    k = 0\n",
    "    while(k<n):\n",
    "        a[k] = b[j:j+n]\n",
    "        j += n\n",
    "        k+=1;\n",
    "    \n",
    "    a_inf_ind = [(j,jj) for j in range(len(a)) for jj in range(len(a[j])) if a[j][jj]!='1']\n",
    "    print(len(a[0]))\n",
    "    print(a)\n",
    "    bb = product(a,a)\n",
    "    bb_inf_ind = [(j,jj) for j in range(len(bb)) for jj in range(len(bb[j])) if bb[j][jj]!='1']\n",
    "    \n",
    "    if a_inf_ind == bb_inf_ind:\n",
    "        for j in range(len(a)):\n",
    "            print(*a[j])\n",
    "            \n",
    "    print('\\n')"
   ]
  },
  {
   "cell_type": "markdown",
   "id": "b2114b60",
   "metadata": {},
   "source": [
    "### At most B(M)"
   ]
  },
  {
   "cell_type": "code",
   "execution_count": 24,
   "id": "e75fe727",
   "metadata": {},
   "outputs": [],
   "source": [
    "def product(A:list, B:list) -> list:\n",
    "    n = len(A)\n",
    "    res = [[0 for _ in range(n)] for _ in range(n)]\n",
    "    for i in range(n):\n",
    "        for j in range(n):\n",
    "            \n",
    "            minim = float('+inf')\n",
    "            \n",
    "            for k in range(n):\n",
    "                aux = A[i][k]+B[k][j]\n",
    "                if(aux < minim):\n",
    "                    minim = aux\n",
    "                    \n",
    "            res[i][j] = minim\n",
    "            \n",
    "    return res            "
   ]
  },
  {
   "cell_type": "code",
   "execution_count": 25,
   "id": "0112974c",
   "metadata": {},
   "outputs": [],
   "source": [
    "def negative_diagonalQ(A:list) -> bool:\n",
    "    i = 0\n",
    "    n = len(A)\n",
    "    found = False\n",
    "    while i<n and not found:\n",
    "        if A[i][i] < 0:\n",
    "            found = True\n",
    "        i += 1\n",
    "    return found"
   ]
  },
  {
   "cell_type": "code",
   "execution_count": 26,
   "id": "132e5e06",
   "metadata": {},
   "outputs": [],
   "source": [
    "def product_m_ngQ(matrix_list:list, m:int) -> bool:\n",
    "    #check if any product of m matrixes satisfies negative_diagonalQ\n",
    "    \n",
    "    n = len(matrix_list)\n",
    "    inp = [list(range(n))] * m\n",
    "    product_index_list = list(itertools.product(*inp))\n",
    "\n",
    "    len_tup = len(product_index_list)\n",
    "    \n",
    "    i = 0\n",
    "    ok = True\n",
    "    while i<len_tup and ok:\n",
    "        tup = product_index_list[i]\n",
    "        \n",
    "        aux = matrix_list[tup[0]]\n",
    "        for j in range(1, m):\n",
    "            aux = product(aux, matrix_list[tup[j]])\n",
    "            \n",
    "        if(not negative_diagonalQ(aux)):\n",
    "            ok = False\n",
    "        \n",
    "        i += 1\n",
    "    \n",
    "    return ok"
   ]
  },
  {
   "cell_type": "code",
   "execution_count": 27,
   "id": "ca25beaa",
   "metadata": {},
   "outputs": [],
   "source": [
    "def product_up2m_ngQ(matrix_list:list, m:int) -> bool: \n",
    "    #check if any product of up to m matrixes satisfies negative_diagonalQ\n",
    "    i = 1\n",
    "    ok = True\n",
    "    while i<=m and ok:\n",
    "        ok = product_m_ngQ(matrix_list, i)\n",
    "        i += 1\n",
    "        \n",
    "    return ok"
   ]
  },
  {
   "cell_type": "code",
   "execution_count": 28,
   "id": "cbe22075",
   "metadata": {},
   "outputs": [],
   "source": [
    "def function2matrix(G:str, to_evaluate:list = []) -> list:\n",
    "    #given function lambda (x1, x2, x3): (x1-1, x2, x3) construct its matrix\n",
    "    #to_evaluate indicates what expressions will be expressed on the matrices\n",
    "    #for example to_evaluate = [x1]\n",
    "    \n",
    "    #remove spaces from G\n",
    "    g = ''\n",
    "    for c in G:\n",
    "        if c!=' ':\n",
    "            g += c\n",
    "    g = g[1:-1] #remove parentheses\n",
    "    \n",
    "    comma_index = [i for i in range(len(g)) if g[i]==',']\n",
    "    gs = [g[0:comma_index[0]]] #projection 1 of g\n",
    "    gs += [g[comma_index[i]+1:comma_index[i+1]] for i in range(len(comma_index)-1)]\n",
    "    gs += [g[comma_index[-1]+1:]] #projection m of g\n",
    "    \n",
    "    dim = len(comma_index) + 1 #dimension of g\n",
    "    \n",
    "    if len(to_evaluate)==0:\n",
    "        for i in range(dim):\n",
    "            to_evaluate += [\"x%d\"%(i+1)]\n",
    "    else:\n",
    "        dim = len(to_evaluate)\n",
    "    \n",
    "    n = Int('n')\n",
    "    for i in range(dim):\n",
    "        exec(\"x%d = Int('x%d')\"%(i+1,i+1))\n",
    "    \n",
    "    matrix_result = [[0 for _ in range(dim)] for _ in range(dim)]\n",
    "    \n",
    "    for i in range(dim):\n",
    "        for j in range(dim):\n",
    "            try:\n",
    "                #evaluates the difference and atributes if it is an integer\n",
    "                aux = gs[j] + \"-\" + \"x%s\"%(i+1) #x_new - x_old\n",
    "                matrix_result[i][j] = simplify(eval(aux)).as_long()\n",
    "            except AttributeError:\n",
    "                #if its not an integer set it to +oo\n",
    "                matrix_result[i][j] = float('inf')\n",
    "                \n",
    "    return matrix_result"
   ]
  },
  {
   "cell_type": "markdown",
   "id": "fe942551",
   "metadata": {},
   "source": [
    "We next derive some combinatorial bounds for irreducible multipaths, leading to the desired finite search space for the decision problem. For simplicity in calculations, we assume that \n",
    "- all functions in the subject program have the same number $k$ of parameters. \n",
    "- We will use $m$ for the number of functions, and \n",
    "- $\\Delta$ for the maximum absolute value of any size-change label in $G$ (we may assume that both positive and negative labels are present, for otherwise the problem is at most as hard as plain SCT)."
   ]
  },
  {
   "attachments": {
    "imagem.png": {
     "image/png": "[encoded data removed]"
    }
   },
   "cell_type": "markdown",
   "id": "6e64778e",
   "metadata": {},
   "source": [
    "![imagem.png](attachment:imagem.png)"
   ]
  },
  {
   "cell_type": "markdown",
   "id": "bc55a5ca",
   "metadata": {},
   "source": [
    "$B(\\mathcal{G}) = (k+1)^{2k} m^2 2^{2k+1} (m \\Delta)^{3k+1}(k+1)^{3k^2+3k+1}$"
   ]
  },
  {
   "cell_type": "markdown",
   "id": "29b400f4",
   "metadata": {},
   "source": [
    "f n variables and m × m.\n",
    "∆ the maximum absolute value of a matrix."
   ]
  },
  {
   "cell_type": "code",
   "execution_count": 60,
   "id": "8085f50d",
   "metadata": {},
   "outputs": [
    {
     "data": {
      "text/plain": [
       "5263136739342894229381323813814272"
      ]
     },
     "execution_count": 60,
     "metadata": {},
     "output_type": "execute_result"
    }
   ],
   "source": [
    "n = 3\n",
    "m = n\n",
    "delta = 1\n",
    "\n",
    "(n+1)**(2*n) * m**2 * 2**(2*n+1) * (m*delta)**(3*n+1) * (n+1)**(3*n**2+3*n+1)"
   ]
  },
  {
   "cell_type": "code",
   "execution_count": 47,
   "id": "9741cf74",
   "metadata": {},
   "outputs": [],
   "source": [
    "def B(matrix_list:list) -> int:\n",
    "    n = len(matrix_list)\n",
    "    m = len(matrix_list)\n",
    "    delta = max([abs(m[i][j]) for m in matrix_list for i in range(len(m)) for j in range(len(m[i])) if m[i][j]<float('inf')])\n",
    "    \n",
    "    res = (n+1)**(2*n) * m**2 * 2**(2*n+1) * (m*delta)**(3*n+1) * (n+1)**(3*n**2+3*n+1)\n",
    "    \n",
    "    return res"
   ]
  },
  {
   "cell_type": "code",
   "execution_count": 76,
   "id": "5875ca90",
   "metadata": {
    "scrolled": true
   },
   "outputs": [
    {
     "name": "stdout",
     "output_type": "stream",
     "text": [
      "m = 3\n",
      "\n",
      "x = (input(Z), ..., input(Z))\n",
      "while x > 0:\n",
      "   command = input(1,2,3)\n",
      "   if command == 1:\n",
      "      x = (x1-1, x2+1, x3+1)\n",
      "   if command == 2:\n",
      "      x = (x1+1, x2-1, x3+1)\n",
      "   if command == 3:\n",
      "      x = (x1+1, x2+1, x3-1)\n",
      "[[[-1, inf], [inf, 1]], [[1, inf], [inf, -1]], [[1, inf], [inf, 1]]]\n",
      "5263136739342894229381323813814272\n",
      "unknown\n",
      "CPU times: user 0 ns, sys: 46.9 ms, total: 46.9 ms\n",
      "Wall time: 17 s\n"
     ]
    }
   ],
   "source": [
    "%%time\n",
    "\n",
    "def main():\n",
    "    #the output is 1 if the program terminates, 0 if it doesn't and 'unknown' if it can't decide.\n",
    "    \n",
    "    m = int(input('m = '))\n",
    "    \n",
    "    print('\\nx = (input(Z), ..., input(Z))')\n",
    "    print('while x > 0:')\n",
    "    com = ''\n",
    "    if m<6:\n",
    "        for i in range(m):\n",
    "            com += '%d,'%(i+1)\n",
    "        com = com[:-1] #to exclude the last comma\n",
    "    else:\n",
    "        com = '1, 2, ..., %d, %d'%(m-1,m)\n",
    "\n",
    "    print('   command = input(%s)'%com)\n",
    "    \n",
    "    matrix_list = []\n",
    "    \n",
    "    for i in range(1, m+1):\n",
    "        print('   if command == %d:'%i)\n",
    "        g = input('      x = ')\n",
    "        matrix_list += [function2matrix(g)]\n",
    "    \n",
    "    print(matrix_list)\n",
    "    max_exp = B(matrix_list)\n",
    "    print(max_exp)\n",
    "        \n",
    "    ans = product_up2m_ngQ(matrix_list, max_exp)\n",
    "    \n",
    "    if ans:\n",
    "        print(\"The program is finite.\")\n",
    "        return 1\n",
    "    \n",
    "    else:\n",
    "        print('unknown')\n",
    "        return 'unknown'\n",
    "    \n",
    "if __name__ == \"__main__\":\n",
    "    main()   "
   ]
  },
  {
   "cell_type": "code",
   "execution_count": null,
   "id": "eb9001dc",
   "metadata": {},
   "outputs": [],
   "source": [
    "m = 1\n",
    "\n",
    "x = (input(Z), ..., input(Z))\n",
    "while x > 0:\n",
    "    command = input(1)\n",
    "    if command == 1:\n",
    "        x = (x1-1,)\n",
    "        \n",
    "[[[-1, inf], [inf, inf]]]\n",
    "4096\n",
    "The program is finite.\n",
    "CPU times: user 31.3 s, sys: 0 ns, total: 31.3 s\n",
    "Wall time: 32.1 s\n"
   ]
  },
  {
   "cell_type": "code",
   "execution_count": null,
   "id": "e06e9bfe",
   "metadata": {},
   "outputs": [],
   "source": [
    "m = 2\n",
    "\n",
    "x = (input(Z), ..., input(Z))\n",
    "while x > 0:\n",
    "    command = input(1,2)\n",
    "    if command == 1:\n",
    "        x = (x2-1, x1+3)\n",
    "    if command == 2:\n",
    "        x = (x1-0,x2-10)\n",
    "        \n",
    "[[[inf, 3], [-1, inf]], [[0, inf], [inf, -10]]]\n",
    "15424418419015680000000\n",
    "unknown\n",
    "CPU times: user 46.9 ms, sys: 93.8 ms, total: 141 ms\n",
    "Wall time: 13 s"
   ]
  }
 ],
 "metadata": {
  "kernelspec": {
   "display_name": "Python 3 (ipykernel)",
   "language": "python",
   "name": "python3"
  },
  "language_info": {
   "codemirror_mode": {
    "name": "ipython",
    "version": 3
   },
   "file_extension": ".py",
   "mimetype": "text/x-python",
   "name": "python",
   "nbconvert_exporter": "python",
   "pygments_lexer": "ipython3",
   "version": "3.8.10"
  }
 },
 "nbformat": 4,
 "nbformat_minor": 5
}
