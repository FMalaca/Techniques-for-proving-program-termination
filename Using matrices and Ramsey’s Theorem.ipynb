{
 "cells": [
  {
   "cell_type": "markdown",
   "id": "176f4a8f",
   "metadata": {},
   "source": [
    "# 4.4 Implementing proofs using matrices and Ramsey’s Theorem"
   ]
  },
  {
   "cell_type": "code",
   "execution_count": 1,
   "id": "9da6e50e",
   "metadata": {},
   "outputs": [],
   "source": [
    "from z3 import *\n",
    "import itertools"
   ]
  },
  {
   "cell_type": "code",
   "execution_count": 2,
   "id": "90069aad",
   "metadata": {},
   "outputs": [],
   "source": [
    "def product(A:list, B:list) -> list:\n",
    "    n = len(A)\n",
    "    res = [[0 for _ in range(n)] for _ in range(n)]\n",
    "    for i in range(n):\n",
    "        for j in range(n):\n",
    "            \n",
    "            minim = float('+inf')\n",
    "            \n",
    "            for k in range(n):\n",
    "                aux = A[i][k]+B[k][j]\n",
    "                if(aux < minim):\n",
    "                    minim = aux\n",
    "                    \n",
    "            res[i][j] = minim\n",
    "            \n",
    "    return res            "
   ]
  },
  {
   "cell_type": "code",
   "execution_count": 3,
   "id": "94add05f",
   "metadata": {},
   "outputs": [],
   "source": [
    "def negative_diagonalQ(A:list) -> bool:\n",
    "    i = 0\n",
    "    n = len(A)\n",
    "    found = False\n",
    "    while i<n and not found:\n",
    "        if A[i][i] < 0:\n",
    "            found = True\n",
    "        i += 1\n",
    "    return found"
   ]
  },
  {
   "cell_type": "code",
   "execution_count": 4,
   "id": "752c4512",
   "metadata": {},
   "outputs": [],
   "source": [
    "def position_non_infinity(A:list) -> list:\n",
    "    res = []\n",
    "    for i in range(len(A)):\n",
    "        for j in range(len(A[i])):\n",
    "            if A[i][j] != float('inf'):\n",
    "                res += [(i,j)]\n",
    "    return res"
   ]
  },
  {
   "cell_type": "code",
   "execution_count": 5,
   "id": "ee83f113",
   "metadata": {},
   "outputs": [],
   "source": [
    "def idempotentQ(A:list) -> bool:\n",
    "    return position_non_infinity(A) == position_non_infinity(product(A, A))"
   ]
  },
  {
   "cell_type": "code",
   "execution_count": 6,
   "id": "258ec496",
   "metadata": {},
   "outputs": [],
   "source": [
    "def product_up2m_ngQ(matrix_list:list, m:int) -> bool:\n",
    "    #check if any product of up to m matrixes doesn't satisfy negative_diagonalQ while being idempotent\n",
    "    \n",
    "    n = len(matrix_list)\n",
    "    inp = [list(range(n))] * m\n",
    "    product_index_list = list(itertools.product(*inp))\n",
    "\n",
    "    len_tup = len(product_index_list)\n",
    "    \n",
    "    i = 0\n",
    "    ok = True\n",
    "    while i<len_tup and ok:\n",
    "        tup = product_index_list[i]\n",
    "        \n",
    "        aux = matrix_list[tup[0]]\n",
    "        for j in range(1, m):\n",
    "            if idempotentQ(aux) and not negative_diagonalQ(aux):\n",
    "                ok = False\n",
    "                break\n",
    "            aux = product(aux, matrix_list[tup[j]])\n",
    "            \n",
    "        if idempotentQ(aux) and not negative_diagonalQ(aux):\n",
    "            ok = False\n",
    "        \n",
    "        i += 1\n",
    "    \n",
    "    return ok"
   ]
  },
  {
   "cell_type": "code",
   "execution_count": 7,
   "id": "d50286ee",
   "metadata": {},
   "outputs": [],
   "source": [
    "def function2matrix(G:str) -> list:\n",
    "    #given '(x1-1, x2)' construct the matrix [[-1, float('inf')],[float('inf'), 0]]\n",
    "    \n",
    "    #remove spaces from G\n",
    "    g = ''\n",
    "    for c in G:\n",
    "        if c!=' ':\n",
    "            g += c\n",
    "    g = g[1:-1] #remove parentheses\n",
    "    \n",
    "    comma_index = [i for i in range(len(g)) if g[i]==',']\n",
    "    gs = [g[0:comma_index[0]]] #projection 1 of g\n",
    "    gs += [g[comma_index[i]+1:comma_index[i+1]] for i in range(len(comma_index)-1)]\n",
    "    gs += [g[comma_index[-1]+1:]] #projection m of g\n",
    "    \n",
    "    dim = len(comma_index) + 1 #dimension of g\n",
    "    \n",
    "    n = Int('n')\n",
    "    for i in range(dim):\n",
    "        exec(\"x%d = Int('x%d')\"%(i+1,i+1))\n",
    "    \n",
    "    matrix_result = [[0 for _ in range(dim)] for _ in range(dim)]\n",
    "    \n",
    "    for i in range(dim):\n",
    "        for j in range(dim):\n",
    "            try:\n",
    "                #evaluates the difference and atributes if it is an integer\n",
    "                aux = gs[j] + \"-\" + \"x%s\"%(i+1)\n",
    "                matrix_result[i][j] = simplify(eval(aux)).as_long()\n",
    "            except AttributeError:\n",
    "                #if its not an integer set it to +oo\n",
    "                matrix_result[i][j] = float('inf')\n",
    "                \n",
    "    return matrix_result\n",
    "    "
   ]
  },
  {
   "cell_type": "code",
   "execution_count": 8,
   "id": "a4488e20",
   "metadata": {},
   "outputs": [],
   "source": [
    "def main():\n",
    "    #the output is 1 if the program terminates, 0 if it doesn't and 'unknown' if it can't decide.\n",
    "    max_exp = int(input('maximum exponent = '))\n",
    "    \n",
    "    m = int(input('m = '))\n",
    "    \n",
    "    print('\\nx = (input(Z), ..., input(Z))')\n",
    "    print('while x > 0:')\n",
    "    com = ''\n",
    "    if m<6:\n",
    "        for i in range(m):\n",
    "            com += '%d,'%(i+1)\n",
    "        com = com[:-1] #to exclude the last comma\n",
    "    else:\n",
    "        com = '1, 2, ..., %d, %d'%(m-1,m)\n",
    "\n",
    "    print('   command = input(%s)'%com)\n",
    "    \n",
    "    matrix_list = []\n",
    "    \n",
    "    for i in range(1, m+1):\n",
    "        print('   if command == %d:'%i)\n",
    "        g = input('      x = ')\n",
    "        matrix_list += [function2matrix(g)]\n",
    "        \n",
    "    ans = product_up2m_ngQ(matrix_list, max_exp)\n",
    "    \n",
    "    if ans:\n",
    "        print(\"\\nUp to exponent %s it didn't found problems.\"%max_exp)\n",
    "        return 1\n",
    "    \n",
    "    else:\n",
    "        print('unknown')\n",
    "        return 'unknown' "
   ]
  },
  {
   "cell_type": "markdown",
   "id": "6d55e68e",
   "metadata": {},
   "source": [
    "### Example - Program 5"
   ]
  },
  {
   "cell_type": "code",
   "execution_count": 9,
   "id": "eed03e1c",
   "metadata": {},
   "outputs": [
    {
     "name": "stdout",
     "output_type": "stream",
     "text": [
      "maximum exponent = 7\n",
      "m = 3\n",
      "\n",
      "x = (input(Z), ..., input(Z))\n",
      "while x > 0:\n",
      "   command = input(1,2,3)\n",
      "   if command == 1:\n",
      "      x = (x1-1, x2+n, x3, x4)\n",
      "   if command == 2:\n",
      "      x = (x1, x2-1, x3+n, x4)\n",
      "   if command == 3:\n",
      "      x = (x1, x2, x3-1, x4+n)\n",
      "\n",
      "Up to exponent 7 it didn't found problems.\n"
     ]
    },
    {
     "data": {
      "text/plain": [
       "1"
      ]
     },
     "execution_count": 9,
     "metadata": {},
     "output_type": "execute_result"
    }
   ],
   "source": [
    "main()"
   ]
  }
 ],
 "metadata": {
  "kernelspec": {
   "display_name": "Python 3 (ipykernel)",
   "language": "python",
   "name": "python3"
  },
  "language_info": {
   "codemirror_mode": {
    "name": "ipython",
    "version": 3
   },
   "file_extension": ".py",
   "mimetype": "text/x-python",
   "name": "python",
   "nbconvert_exporter": "python",
   "pygments_lexer": "ipython3",
   "version": "3.8.10"
  }
 },
 "nbformat": 4,
 "nbformat_minor": 5
}
